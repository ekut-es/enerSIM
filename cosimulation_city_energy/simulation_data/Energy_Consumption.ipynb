{
 "cells": [
  {
   "cell_type": "markdown",
   "metadata": {},
   "source": [
    "# Energy Consumption in Household Data"
   ]
  },
  {
   "cell_type": "markdown",
   "metadata": {},
   "source": [
    "In der Haushaltssimulation wird \"grid_import\" als der Energiekonsum verwendet. Dabei ergeben sich jedoch ungereimtheiten durch die Tabellenspalte \"grid_export\" und \"pv\" bei den Prosumern 4 und 6.\n",
    "In test.csv ist das ergebnis der Query über die ersten 400 Einträge von prosumer 6. gi = grid_import, ge = grid_export.\n",
    "\n",
    "[Link zum Datensatz](https://data.open-power-system-data.org/household_data/2020-04-15)"
   ]
  },
  {
   "cell_type": "code",
   "execution_count": 1,
   "metadata": {},
   "outputs": [],
   "source": [
    "import pandas as pd"
   ]
  },
  {
   "cell_type": "code",
   "execution_count": 2,
   "metadata": {},
   "outputs": [],
   "source": [
    "d = pd.read_csv(\"test.csv\")"
   ]
  },
  {
   "cell_type": "code",
   "execution_count": 3,
   "metadata": {},
   "outputs": [
    {
     "data": {
      "text/html": [
       "<div>\n",
       "<style scoped>\n",
       "    .dataframe tbody tr th:only-of-type {\n",
       "        vertical-align: middle;\n",
       "    }\n",
       "\n",
       "    .dataframe tbody tr th {\n",
       "        vertical-align: top;\n",
       "    }\n",
       "\n",
       "    .dataframe thead th {\n",
       "        text-align: right;\n",
       "    }\n",
       "</style>\n",
       "<table border=\"1\" class=\"dataframe\">\n",
       "  <thead>\n",
       "    <tr style=\"text-align: right;\">\n",
       "      <th></th>\n",
       "      <th>utc</th>\n",
       "      <th>gi</th>\n",
       "      <th>ge</th>\n",
       "      <th>pv</th>\n",
       "    </tr>\n",
       "  </thead>\n",
       "  <tbody>\n",
       "    <tr>\n",
       "      <th>0</th>\n",
       "      <td>2016-05-13T13:30:00Z</td>\n",
       "      <td>3104.224414</td>\n",
       "      <td>0.110000</td>\n",
       "      <td>3139.585693</td>\n",
       "    </tr>\n",
       "    <tr>\n",
       "      <th>1</th>\n",
       "      <td>2016-05-13T13:45:00Z</td>\n",
       "      <td>3104.224414</td>\n",
       "      <td>0.400000</td>\n",
       "      <td>3140.060303</td>\n",
       "    </tr>\n",
       "    <tr>\n",
       "      <th>2</th>\n",
       "      <td>2016-05-13T14:00:00Z</td>\n",
       "      <td>3104.224414</td>\n",
       "      <td>0.700000</td>\n",
       "      <td>3140.615967</td>\n",
       "    </tr>\n",
       "    <tr>\n",
       "      <th>3</th>\n",
       "      <td>2016-05-13T14:15:00Z</td>\n",
       "      <td>3104.224414</td>\n",
       "      <td>0.935000</td>\n",
       "      <td>3141.055420</td>\n",
       "    </tr>\n",
       "    <tr>\n",
       "      <th>4</th>\n",
       "      <td>2016-05-13T14:30:00Z</td>\n",
       "      <td>3104.224414</td>\n",
       "      <td>1.030000</td>\n",
       "      <td>3141.320557</td>\n",
       "    </tr>\n",
       "    <tr>\n",
       "      <th>...</th>\n",
       "      <td>...</td>\n",
       "      <td>...</td>\n",
       "      <td>...</td>\n",
       "      <td>...</td>\n",
       "    </tr>\n",
       "    <tr>\n",
       "      <th>395</th>\n",
       "      <td>2016-05-17T16:15:00Z</td>\n",
       "      <td>3130.314412</td>\n",
       "      <td>52.385000</td>\n",
       "      <td>3251.995850</td>\n",
       "    </tr>\n",
       "    <tr>\n",
       "      <th>396</th>\n",
       "      <td>2016-05-17T16:30:00Z</td>\n",
       "      <td>3130.324414</td>\n",
       "      <td>52.460001</td>\n",
       "      <td>3252.640869</td>\n",
       "    </tr>\n",
       "    <tr>\n",
       "      <th>397</th>\n",
       "      <td>2016-05-17T16:45:00Z</td>\n",
       "      <td>3130.324414</td>\n",
       "      <td>52.530001</td>\n",
       "      <td>3253.265381</td>\n",
       "    </tr>\n",
       "    <tr>\n",
       "      <th>398</th>\n",
       "      <td>2016-05-17T17:00:00Z</td>\n",
       "      <td>3130.349414</td>\n",
       "      <td>52.550001</td>\n",
       "      <td>3253.725830</td>\n",
       "    </tr>\n",
       "    <tr>\n",
       "      <th>399</th>\n",
       "      <td>2016-05-17T17:15:00Z</td>\n",
       "      <td>3130.469415</td>\n",
       "      <td>52.550001</td>\n",
       "      <td>3253.875732</td>\n",
       "    </tr>\n",
       "  </tbody>\n",
       "</table>\n",
       "<p>400 rows × 4 columns</p>\n",
       "</div>"
      ],
      "text/plain": [
       "                      utc           gi         ge           pv\n",
       "0    2016-05-13T13:30:00Z  3104.224414   0.110000  3139.585693\n",
       "1    2016-05-13T13:45:00Z  3104.224414   0.400000  3140.060303\n",
       "2    2016-05-13T14:00:00Z  3104.224414   0.700000  3140.615967\n",
       "3    2016-05-13T14:15:00Z  3104.224414   0.935000  3141.055420\n",
       "4    2016-05-13T14:30:00Z  3104.224414   1.030000  3141.320557\n",
       "..                    ...          ...        ...          ...\n",
       "395  2016-05-17T16:15:00Z  3130.314412  52.385000  3251.995850\n",
       "396  2016-05-17T16:30:00Z  3130.324414  52.460001  3252.640869\n",
       "397  2016-05-17T16:45:00Z  3130.324414  52.530001  3253.265381\n",
       "398  2016-05-17T17:00:00Z  3130.349414  52.550001  3253.725830\n",
       "399  2016-05-17T17:15:00Z  3130.469415  52.550001  3253.875732\n",
       "\n",
       "[400 rows x 4 columns]"
      ]
     },
     "execution_count": 3,
     "metadata": {},
     "output_type": "execute_result"
    }
   ],
   "source": [
    "d"
   ]
  },
  {
   "cell_type": "code",
   "execution_count": 5,
   "metadata": {},
   "outputs": [
    {
     "data": {
      "text/html": [
       "<div>\n",
       "<style scoped>\n",
       "    .dataframe tbody tr th:only-of-type {\n",
       "        vertical-align: middle;\n",
       "    }\n",
       "\n",
       "    .dataframe tbody tr th {\n",
       "        vertical-align: top;\n",
       "    }\n",
       "\n",
       "    .dataframe thead th {\n",
       "        text-align: right;\n",
       "    }\n",
       "</style>\n",
       "<table border=\"1\" class=\"dataframe\">\n",
       "  <thead>\n",
       "    <tr style=\"text-align: right;\">\n",
       "      <th></th>\n",
       "      <th>gi</th>\n",
       "      <th>ge</th>\n",
       "      <th>pv</th>\n",
       "    </tr>\n",
       "  </thead>\n",
       "  <tbody>\n",
       "    <tr>\n",
       "      <th>0</th>\n",
       "      <td>NaN</td>\n",
       "      <td>NaN</td>\n",
       "      <td>NaN</td>\n",
       "    </tr>\n",
       "    <tr>\n",
       "      <th>1</th>\n",
       "      <td>0.000000</td>\n",
       "      <td>0.290000</td>\n",
       "      <td>0.474609</td>\n",
       "    </tr>\n",
       "    <tr>\n",
       "      <th>2</th>\n",
       "      <td>0.000000</td>\n",
       "      <td>0.300000</td>\n",
       "      <td>0.555664</td>\n",
       "    </tr>\n",
       "    <tr>\n",
       "      <th>3</th>\n",
       "      <td>0.000000</td>\n",
       "      <td>0.235000</td>\n",
       "      <td>0.439453</td>\n",
       "    </tr>\n",
       "    <tr>\n",
       "      <th>4</th>\n",
       "      <td>0.000000</td>\n",
       "      <td>0.095000</td>\n",
       "      <td>0.265137</td>\n",
       "    </tr>\n",
       "    <tr>\n",
       "      <th>...</th>\n",
       "      <td>...</td>\n",
       "      <td>...</td>\n",
       "      <td>...</td>\n",
       "    </tr>\n",
       "    <tr>\n",
       "      <th>395</th>\n",
       "      <td>0.000000</td>\n",
       "      <td>0.160000</td>\n",
       "      <td>0.895020</td>\n",
       "    </tr>\n",
       "    <tr>\n",
       "      <th>396</th>\n",
       "      <td>0.010002</td>\n",
       "      <td>0.075001</td>\n",
       "      <td>0.645020</td>\n",
       "    </tr>\n",
       "    <tr>\n",
       "      <th>397</th>\n",
       "      <td>0.000000</td>\n",
       "      <td>0.070000</td>\n",
       "      <td>0.624512</td>\n",
       "    </tr>\n",
       "    <tr>\n",
       "      <th>398</th>\n",
       "      <td>0.025000</td>\n",
       "      <td>0.020000</td>\n",
       "      <td>0.460449</td>\n",
       "    </tr>\n",
       "    <tr>\n",
       "      <th>399</th>\n",
       "      <td>0.120001</td>\n",
       "      <td>0.000000</td>\n",
       "      <td>0.149902</td>\n",
       "    </tr>\n",
       "  </tbody>\n",
       "</table>\n",
       "<p>400 rows × 3 columns</p>\n",
       "</div>"
      ],
      "text/plain": [
       "           gi        ge        pv\n",
       "0         NaN       NaN       NaN\n",
       "1    0.000000  0.290000  0.474609\n",
       "2    0.000000  0.300000  0.555664\n",
       "3    0.000000  0.235000  0.439453\n",
       "4    0.000000  0.095000  0.265137\n",
       "..        ...       ...       ...\n",
       "395  0.000000  0.160000  0.895020\n",
       "396  0.010002  0.075001  0.645020\n",
       "397  0.000000  0.070000  0.624512\n",
       "398  0.025000  0.020000  0.460449\n",
       "399  0.120001  0.000000  0.149902\n",
       "\n",
       "[400 rows x 3 columns]"
      ]
     },
     "execution_count": 5,
     "metadata": {},
     "output_type": "execute_result"
    }
   ],
   "source": [
    "d2 = (d[['gi', 'ge', 'pv']] - d[['gi', 'ge', 'pv']].shift(1))\n",
    "d2"
   ]
  },
  {
   "cell_type": "code",
   "execution_count": 6,
   "metadata": {},
   "outputs": [
    {
     "data": {
      "text/html": [
       "<div>\n",
       "<style scoped>\n",
       "    .dataframe tbody tr th:only-of-type {\n",
       "        vertical-align: middle;\n",
       "    }\n",
       "\n",
       "    .dataframe tbody tr th {\n",
       "        vertical-align: top;\n",
       "    }\n",
       "\n",
       "    .dataframe thead th {\n",
       "        text-align: right;\n",
       "    }\n",
       "</style>\n",
       "<table border=\"1\" class=\"dataframe\">\n",
       "  <thead>\n",
       "    <tr style=\"text-align: right;\">\n",
       "      <th></th>\n",
       "      <th>gi</th>\n",
       "      <th>ge</th>\n",
       "      <th>pv</th>\n",
       "    </tr>\n",
       "  </thead>\n",
       "  <tbody>\n",
       "    <tr>\n",
       "      <th>1</th>\n",
       "      <td>0.000000</td>\n",
       "      <td>0.290000</td>\n",
       "      <td>0.474609</td>\n",
       "    </tr>\n",
       "    <tr>\n",
       "      <th>2</th>\n",
       "      <td>0.000000</td>\n",
       "      <td>0.300000</td>\n",
       "      <td>0.555664</td>\n",
       "    </tr>\n",
       "    <tr>\n",
       "      <th>3</th>\n",
       "      <td>0.000000</td>\n",
       "      <td>0.235000</td>\n",
       "      <td>0.439453</td>\n",
       "    </tr>\n",
       "    <tr>\n",
       "      <th>4</th>\n",
       "      <td>0.000000</td>\n",
       "      <td>0.095000</td>\n",
       "      <td>0.265137</td>\n",
       "    </tr>\n",
       "    <tr>\n",
       "      <th>5</th>\n",
       "      <td>0.000000</td>\n",
       "      <td>0.155000</td>\n",
       "      <td>0.305176</td>\n",
       "    </tr>\n",
       "    <tr>\n",
       "      <th>...</th>\n",
       "      <td>...</td>\n",
       "      <td>...</td>\n",
       "      <td>...</td>\n",
       "    </tr>\n",
       "    <tr>\n",
       "      <th>395</th>\n",
       "      <td>0.000000</td>\n",
       "      <td>0.160000</td>\n",
       "      <td>0.895020</td>\n",
       "    </tr>\n",
       "    <tr>\n",
       "      <th>396</th>\n",
       "      <td>0.010002</td>\n",
       "      <td>0.075001</td>\n",
       "      <td>0.645020</td>\n",
       "    </tr>\n",
       "    <tr>\n",
       "      <th>397</th>\n",
       "      <td>0.000000</td>\n",
       "      <td>0.070000</td>\n",
       "      <td>0.624512</td>\n",
       "    </tr>\n",
       "    <tr>\n",
       "      <th>398</th>\n",
       "      <td>0.025000</td>\n",
       "      <td>0.020000</td>\n",
       "      <td>0.460449</td>\n",
       "    </tr>\n",
       "    <tr>\n",
       "      <th>399</th>\n",
       "      <td>0.120001</td>\n",
       "      <td>0.000000</td>\n",
       "      <td>0.149902</td>\n",
       "    </tr>\n",
       "  </tbody>\n",
       "</table>\n",
       "<p>399 rows × 3 columns</p>\n",
       "</div>"
      ],
      "text/plain": [
       "           gi        ge        pv\n",
       "1    0.000000  0.290000  0.474609\n",
       "2    0.000000  0.300000  0.555664\n",
       "3    0.000000  0.235000  0.439453\n",
       "4    0.000000  0.095000  0.265137\n",
       "5    0.000000  0.155000  0.305176\n",
       "..        ...       ...       ...\n",
       "395  0.000000  0.160000  0.895020\n",
       "396  0.010002  0.075001  0.645020\n",
       "397  0.000000  0.070000  0.624512\n",
       "398  0.025000  0.020000  0.460449\n",
       "399  0.120001  0.000000  0.149902\n",
       "\n",
       "[399 rows x 3 columns]"
      ]
     },
     "execution_count": 6,
     "metadata": {},
     "output_type": "execute_result"
    }
   ],
   "source": [
    "d2.dropna(axis=0)"
   ]
  },
  {
   "cell_type": "code",
   "execution_count": 8,
   "metadata": {},
   "outputs": [
    {
     "data": {
      "text/html": [
       "<div>\n",
       "<style scoped>\n",
       "    .dataframe tbody tr th:only-of-type {\n",
       "        vertical-align: middle;\n",
       "    }\n",
       "\n",
       "    .dataframe tbody tr th {\n",
       "        vertical-align: top;\n",
       "    }\n",
       "\n",
       "    .dataframe thead th {\n",
       "        text-align: right;\n",
       "    }\n",
       "</style>\n",
       "<table border=\"1\" class=\"dataframe\">\n",
       "  <thead>\n",
       "    <tr style=\"text-align: right;\">\n",
       "      <th></th>\n",
       "      <th>gi</th>\n",
       "      <th>ge</th>\n",
       "      <th>pv</th>\n",
       "    </tr>\n",
       "  </thead>\n",
       "  <tbody>\n",
       "    <tr>\n",
       "      <th>gi</th>\n",
       "      <td>1.000000</td>\n",
       "      <td>-0.466868</td>\n",
       "      <td>-0.456291</td>\n",
       "    </tr>\n",
       "    <tr>\n",
       "      <th>ge</th>\n",
       "      <td>-0.466868</td>\n",
       "      <td>1.000000</td>\n",
       "      <td>0.915040</td>\n",
       "    </tr>\n",
       "    <tr>\n",
       "      <th>pv</th>\n",
       "      <td>-0.456291</td>\n",
       "      <td>0.915040</td>\n",
       "      <td>1.000000</td>\n",
       "    </tr>\n",
       "  </tbody>\n",
       "</table>\n",
       "</div>"
      ],
      "text/plain": [
       "          gi        ge        pv\n",
       "gi  1.000000 -0.466868 -0.456291\n",
       "ge -0.466868  1.000000  0.915040\n",
       "pv -0.456291  0.915040  1.000000"
      ]
     },
     "execution_count": 8,
     "metadata": {},
     "output_type": "execute_result"
    }
   ],
   "source": [
    "d2.corr()"
   ]
  },
  {
   "cell_type": "code",
   "execution_count": 10,
   "metadata": {},
   "outputs": [],
   "source": [
    "d2['possible_energy_usage'] = d2[\"gi\"] + (d2['pv'] - d2['ge'])"
   ]
  },
  {
   "cell_type": "code",
   "execution_count": 11,
   "metadata": {},
   "outputs": [],
   "source": [
    "possible_eu = (d2['possible_energy_usage']< 0)"
   ]
  },
  {
   "cell_type": "code",
   "execution_count": 12,
   "metadata": {},
   "outputs": [
    {
     "data": {
      "text/plain": [
       "True"
      ]
     },
     "execution_count": 12,
     "metadata": {},
     "output_type": "execute_result"
    }
   ],
   "source": [
    "(possible_eu >= 0).all()"
   ]
  },
  {
   "cell_type": "code",
   "execution_count": 13,
   "metadata": {},
   "outputs": [
    {
     "data": {
      "text/plain": [
       "False"
      ]
     },
     "execution_count": 13,
     "metadata": {},
     "output_type": "execute_result"
    }
   ],
   "source": [
    "(possible_eu < 0).any()"
   ]
  },
  {
   "cell_type": "markdown",
   "metadata": {},
   "source": [
    "Ich vermute, dass sich der tatsächliche Energiekonsum aus grid_import + pv - grid_export ergibt."
   ]
  },
  {
   "cell_type": "code",
   "execution_count": null,
   "metadata": {},
   "outputs": [],
   "source": []
  }
 ],
 "metadata": {
  "kernelspec": {
   "display_name": "Python 3",
   "language": "python",
   "name": "python3"
  },
  "language_info": {
   "codemirror_mode": {
    "name": "ipython",
    "version": 3
   },
   "file_extension": ".py",
   "mimetype": "text/x-python",
   "name": "python",
   "nbconvert_exporter": "python",
   "pygments_lexer": "ipython3",
   "version": "3.7.7"
  }
 },
 "nbformat": 4,
 "nbformat_minor": 2
}
