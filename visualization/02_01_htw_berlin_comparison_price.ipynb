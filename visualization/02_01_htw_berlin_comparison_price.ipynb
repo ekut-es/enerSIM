{
 "cells": [
  {
   "cell_type": "code",
   "execution_count": 1,
   "metadata": {},
   "outputs": [],
   "source": [
    "%config Completer.use_jedi = False \n"
   ]
  },
  {
   "cell_type": "code",
   "execution_count": 2,
   "metadata": {},
   "outputs": [],
   "source": [
    "import numpy as np\n",
    "import matplotlib.pyplot as plt\n",
    "import pandas as pd\n",
    "import os\n",
    "from typing import List, Dict, Tuple\n",
    "from evaluation_utils.evaluation_utils import map_dict_values"
   ]
  },
  {
   "cell_type": "code",
   "execution_count": 3,
   "metadata": {},
   "outputs": [],
   "source": [
    "import sys\n",
    "sys.path.append('..')"
   ]
  },
  {
   "cell_type": "code",
   "execution_count": 4,
   "metadata": {},
   "outputs": [
    {
     "name": "stdout",
     "output_type": "stream",
     "text": [
      "['/home/flo/Workspace/Uni/Masterarbeit/simulation/visualization', '/usr/lib/python38.zip', '/usr/lib/python3.8', '/usr/lib/python3.8/lib-dynload', '', '/home/flo/Workspace/Uni/Masterarbeit/mosaikvenv/lib/python3.8/site-packages', '/home/flo/Workspace/Uni/Masterarbeit/simulation', '/home/flo/Workspace/Uni/Masterarbeit/simulation/batterysim', '/home/flo/Workspace/Uni/Masterarbeit/simulation/householdsim', '/home/flo/Workspace/Uni/Masterarbeit/mosaikvenv/lib/python3.8/site-packages/IPython/extensions', '/home/flo/.ipython', '..']\n"
     ]
    }
   ],
   "source": [
    "print(sys.path)"
   ]
  },
  {
   "cell_type": "code",
   "execution_count": 5,
   "metadata": {},
   "outputs": [],
   "source": [
    "\n",
    "from evaluation_utils.hdf5_to_df import convert_hdf5_to_viewdict\n",
    "\n",
    "from evaluation_utils.pricing import *"
   ]
  },
  {
   "cell_type": "code",
   "execution_count": 6,
   "metadata": {},
   "outputs": [],
   "source": [
    "from pathlib import PurePath\n",
    "#simulation_directory = PurePath(\"../data/sim_results/htw_berlin_complete/\")\n",
    "simulation_directory = PurePath(\"../data/results_32_32/\")\n",
    "\n",
    "sim_name = \"from_2010-01-01_to_2010-12-29_ConProPV_(32, 32, 0)_%s.hdf5\"\n",
    "def create_sim_file_name(specifier):\n",
    "    return PurePath(simulation_directory, sim_name % specifier)\n",
    "# import os \n",
    "# os.listdir(simulation_directory)"
   ]
  },
  {
   "cell_type": "code",
   "execution_count": 7,
   "metadata": {},
   "outputs": [],
   "source": [
    "figure_folder = PurePath(\"figures/htw_berlin_32_32\")"
   ]
  },
  {
   "cell_type": "markdown",
   "metadata": {},
   "source": [
    "# Wirtschaftlichkeit Vergleichen\n",
    "## Arten des Stromhandels\n",
    "Vergleiche Stromkosten der Prosumenten und Konsumenten\n",
    "- Kein PV\n",
    "- PV ohne enerDAG\n",
    "- PV + Batterie ohne enerDAG\n",
    "- enerDAG ohne Batterie\n",
    "- enerDAG mit SimpleBattery\n",
    "- enerDAG mit SmartBattery (SARIMA Modell)\n"
   ]
  },
  {
   "cell_type": "code",
   "execution_count": 8,
   "metadata": {},
   "outputs": [],
   "source": [
    "prices = PriceSpec(\n",
    "            Money(int(714 * Money.FRACTION_MULTIPLIER / 100) ),\n",
    "            Money(int(31 * Money.FRACTION_MULTIPLIER)),\n",
    "            cost_of_generation=Money(6 * Money.FRACTION_MULTIPLIER ),\n",
    "            cost_of_storage=Money((int) (55 * Money.FRACTION_MULTIPLIER / 10)),\n",
    "            enerdag_net_costs=Money.from_cents(5),\n",
    "            avg_p2p_trade=Money.from_cents(19),)\n",
    "\n",
    "KEY_NO_BATTERY = \"No Battery\"\n",
    "KEY_SIMPLE_10_kWh = \"Simple Battery (10 kWh)\"\n",
    "KEY_SIMPLE_5_kWh = \"Simple Battery (5 kWh)\"\n",
    "KEY_SARIMA_SMART_10kWh  = \"SARIMA Smart Battery (10 kWh)\"\n",
    "KEY_PERFECT_SMART_10kWh = \"Perfect SmartBattery (10 kWh)\"\n",
    "KEY_SARIMA_SMART_5kWh = \"SARIMA SmartBattery (5 kWh)\"\n",
    "KEY_PERFECT_SMART_5kWh = \"Perfect SmartBattery (5 kWh)\"\n",
    "\n",
    "simulation_file_paths =  {\n",
    "    KEY_NO_BATTERY: create_sim_file_name(\"NoBattery_0Wh\"),\n",
    "    KEY_SIMPLE_10_kWh: create_sim_file_name(\"SimpleBattery_10000Wh\"),\n",
    "    KEY_SARIMA_SMART_10kWh: create_sim_file_name(\"CSV_(1, 0, 1)_(2, 0, 0, 24)_history_4_SmartBattery_10000Wh\"),\n",
    "    KEY_SIMPLE_5_kWh: create_sim_file_name(\"SimpleBattery_5000Wh\"),\n",
    "    KEY_SARIMA_SMART_5kWh: create_sim_file_name(\"CSV_(1, 0, 1)_(2, 0, 0, 24)_history_4_SmartBattery_5000Wh\"),\n",
    "    KEY_PERFECT_SMART_5kWh: create_sim_file_name(\"CSV_perfect_SmartBattery_5000Wh\"),\n",
    "    KEY_PERFECT_SMART_10kWh: create_sim_file_name(\"CSV_perfect_SmartBattery_10000Wh\"),\n",
    "}\n",
    "\n",
    "def create_new_dict_with_function(d, func):\n",
    "    new_d = dict()\n",
    "    for sim in d:\n",
    "        new_d[sim] = func(d[sim])\n",
    "    return new_d\n",
    "\n",
    "def create_dataframe_dict(path_dict):\n",
    "    return create_new_dict_with_function(path_dict, lambda x: convert_hdf5_to_viewdict( h5py.File(x, \"r\")))\n",
    "  \n",
    "\n",
    "\n",
    "simulation_dataframes = map_dict_values(simulation_file_paths, lambda x: convert_hdf5_to_viewdict(h5py.File(x)))\n",
    "\n",
    "simulation_costs = map_dict_values(simulation_dataframes, lambda x: dict([(name, household_power_cost(df, prices)) for (name, df) in x.items()]))\n"
   ]
  },
  {
   "cell_type": "code",
   "execution_count": 9,
   "metadata": {},
   "outputs": [],
   "source": [
    "def eid_to_label(eid: str) -> str:\n",
    "    if \"pid\" in eid:\n",
    "        pid = int(eid.split(\"pid\")[1][0])\n",
    "        return \"Prosument %d\" % (pid, )\n",
    "    else: \n",
    "        return eid.split(\".\")[-1]\n",
    "def print_model_costs(prices: Dict[str, List[Tuple[str, float]]]):\n",
    "    for model, model_prices in prices.items():\n",
    "        print(\"%s: %.2f\" % (model, sum(map(lambda x: x[1], model_prices))))\n",
    "        for pid, price in model_prices:\n",
    "            print(\"\\t%s: %.2f\" % (eid_to_label(pid), price))\n",
    "    \n",
    "def tex_model_costs(prices: Dict[str, List[Tuple[str, float]]]):\n",
    "    s = \"\"\n",
    "    for model, model_prices in prices.items():\n",
    "        s =  \"%s%s\" % (s, model ,)\n",
    "        total =  sum(map(lambda x: x[1], model_prices))\n",
    "        \n",
    "        s = (\"%s & \\\\myEUR{%.2f}\" % (s, total)).replace(\".\", \",\")\n",
    "        s = (\"%s  \\\\\\\\ %s\" % (s, os.linesep))\n",
    "    \n",
    "    return s\n"
   ]
  },
  {
   "cell_type": "code",
   "execution_count": 10,
   "metadata": {},
   "outputs": [],
   "source": [
    "def construct_cost_info_string(d):\n",
    "    s = \"\"\n",
    "    for sim in d:\n",
    "        s += sim + os.linesep\n",
    "        for eid, stats in d[sim].items():\n",
    "            s += eid_to_label(eid) + os.linesep\n",
    "            s += str(stats) + os.linesep\n",
    "    return s\n"
   ]
  },
  {
   "cell_type": "code",
   "execution_count": 11,
   "metadata": {},
   "outputs": [],
   "source": [
    "def calc_buy_cost(energy_stats: HouseholdEnergyStats, price_spec: PriceSpec):\n",
    "    \"\"\" \n",
    "    Calculate the Cost when someone buys all the consumed energy from the utility provider\n",
    "    \"\"\"\n",
    "    return (energy_stats.total_energy.total_energy * price_spec.cost_buy_from_grid.to_euro()) / 1000\n",
    "\n",
    "def filter_prosumers_and_apply_func(func, energy_stats: Dict[str, HouseholdEnergyStats], prices: PriceSpec):\n",
    "    prosumers = dict(list(filter(lambda x: \"prosumer\" in x[0], list(energy_stats.items()))))\n",
    "    return [(name, func(stats, prices)) for (name,stats) in prosumers.items()]\n",
    "\n",
    "def cal_buy_cost_for_prosumers(energy_stats: Dict[str, HouseholdEnergyStats], prices: PriceSpec):\n",
    "    return filter_prosumers_and_apply_func(calc_buy_cost, energy_stats, prices)\n",
    "\n",
    "def calc_pv_wo_enerdag(energy_stats: Dict[str, HouseholdEnergyStats], prices: PriceSpec):\n",
    "    prosumers = dict(list(filter(lambda x: \"prosumer\" in x[0], list(energy_stats.items()))))    \n",
    "    return [(name, calc_costs_pv_wo_enerdag(stats, prices).to_euro()) for (name, stats) in prosumers.items()]\n",
    "\n",
    "\n",
    "def calc_pv_and_batter_wo_enerdag(energy_stats: Dict[str, HouseholdEnergyStats], prices: PriceSpec):\n",
    "    prosumers = dict(list(filter(lambda x: \"prosumer\" in x[0], list(energy_stats.items()))))    \n",
    "    return [(name, calc_costs_pv_and_battery_wo_enerdag(stats, prices).to_euro()) for (name,stats) in prosumers.items()]\n",
    "\n",
    "def calc_enerdag_total_cost(energy_stats: Dict[str, HouseholdEnergyStats], prices: PriceSpec):\n",
    "    prosumers = dict(list(filter(lambda x: \"prosumer\" in x[0], list(energy_stats.items()))))    \n",
    "    return [(name, household_power_cost(stats, prices).total_energy.total_money.to_euro()) for (name,stats) in prosumers.items()]\n",
    "\n",
    "\n",
    "from typing import Iterable, Callable\n",
    "\n",
    "\n",
    "def create_plot_data(spec: Iterable[Tuple[str, str, Callable]], source: Dict) -> Dict[str, pd.DataFrame]:\n",
    "    d = dict()\n",
    "    for (name, selector, creator) in spec:\n",
    "        d[name] = creator(source[selector])\n",
    "    return d\n",
    "    \n",
    "NO_PV = \"No PV\"\n",
    "PV_AND_BATT_10kWh = \"PV + Battery (10kWh) w/o enerDAG\"\n",
    "PV_AND_BATT_5kWh = \"PV + Battery (5kWh) w/o enerDAG\"\n",
    "PV_WO_ENERDAG = \"PV w/o enerDAG\"\n",
    "ENERDAG_WO_BATT = \"enerDAG w/o battery\"\n",
    "ENERDAG_WITH_10kWh_SIMPLE = \"enerDAG Simple Battery (10 kWh)\"\n",
    "ENERDAG_WITH_5kWh_SIMPLE = \"enerDAG Simple Battery (5 kWh)\"\n",
    "ENERDAG_WITH_10kWh_SMART = \"enerDAG Smart Battery (10 kWh)\"\n",
    "ENERDAG_WITH_5kWh_SMART = \"enerDAG Smart Battery (SARIMA, 5 kWh)\"\n",
    "ENERDAG_WITH_5kWh_SMART_PERFECT = \"enerDAG Smart Battery (Perfect, 5 kWh)\"\n",
    "\n",
    "\n",
    "\n",
    "plot_data_prosumers = {\n",
    "    # NO_PV:  cal_buy_cost_for_prosumers(simulation_costs[KEY_NO_BATTERY], prices), \n",
    "    PV_WO_ENERDAG: calc_pv_wo_enerdag(simulation_dataframes[KEY_NO_BATTERY], prices), \n",
    "    ENERDAG_WO_BATT: calc_enerdag_total_cost(simulation_dataframes[KEY_NO_BATTERY], prices),\n",
    "    PV_AND_BATT_10kWh: calc_pv_and_batter_wo_enerdag(simulation_dataframes[KEY_SIMPLE_10_kWh], prices), \n",
    "    ENERDAG_WITH_10kWh_SIMPLE: calc_enerdag_total_cost(simulation_dataframes[KEY_SIMPLE_10_kWh], prices), \n",
    "    ENERDAG_WITH_10kWh_SMART: calc_enerdag_total_cost(simulation_dataframes[KEY_SARIMA_SMART_10kWh], prices), \n",
    "    PV_AND_BATT_5kWh: calc_pv_and_batter_wo_enerdag(simulation_dataframes[KEY_SIMPLE_5_kWh], prices), \n",
    "    ENERDAG_WITH_5kWh_SIMPLE: calc_enerdag_total_cost(simulation_dataframes[KEY_SIMPLE_5_kWh], prices), \n",
    "    ENERDAG_WITH_5kWh_SMART: calc_enerdag_total_cost(simulation_dataframes[KEY_SARIMA_SMART_5kWh], prices), \n",
    "    ENERDAG_WITH_5kWh_SMART_PERFECT: calc_enerdag_total_cost(simulation_dataframes[KEY_PERFECT_SMART_5kWh], prices),\n",
    "}"
   ]
  },
  {
   "cell_type": "code",
   "execution_count": 12,
   "metadata": {},
   "outputs": [],
   "source": [
    "def create_normal_bar_chart(ax, plot_data, colors):\n",
    "    bar_x_coordinates = []\n",
    "    bar_height = []\n",
    "    bar_color = []\n",
    "    tick_labels = []\n",
    "    legend = None\n",
    "  \n",
    "\n",
    "    for x_index, (configuration, costs) in enumerate(plot_data.items()):\n",
    "\n",
    "        legend = []\n",
    "        total_costs = sum(map(lambda x: x[1], costs))\n",
    "        bar_height.append(total_costs)\n",
    "        bar_color.append(colors[x_index % len(colors)])\n",
    "        tick_labels.append(configuration)\n",
    "        bar_x_coordinates.append(x_index)\n",
    "    ax.bar(x=bar_x_coordinates, \n",
    "                height=bar_height, \n",
    "                tick_label=tick_labels,\n",
    "                bottom=0,\n",
    "                color=bar_color)\n",
    "        \n",
    "        \n",
    "    for tick in ax.get_xticklabels():\n",
    "        tick.set_rotation(90)\n",
    "    ax.set_ylabel(\"€\")\n",
    "    return legend\n",
    "\n",
    "\n",
    "def print_costs(plot_data): \n",
    " for  (configuration, costs) in plot_data.items():\n",
    "\n",
    "        \n",
    "        print(configuration)\n",
    "        total = 0\n",
    "        for cost in costs:\n",
    "            household_name = eid_to_label(cost[0])\n",
    "            cost_household = cost[1]\n",
    "            print(\"\\t%s: %.2f\" % (household_name, cost_household))\n",
    "        total  = sum(list(map(lambda x: x[1], costs)))\n",
    "        print(\"\\ttotal: %.2f\" % ( total, ))\n",
    "\n",
    "def get_min_max_costs(plot_data): \n",
    "    min_costs = np.float64(\"inf\")\n",
    "    max_costs = np.float64(\"-inf\")\n",
    "\n",
    "    max_config, max_households  = (None, None)\n",
    "    min_config, min_households  = (None, None)\n",
    "    for  (configuration, costs) in plot_data.items():\n",
    "\n",
    "        total  = sum(list(map(lambda x: x[1], costs)))\n",
    "        if total > max_costs:\n",
    "            max_costs = total\n",
    "            max_config = configuration\n",
    "            max_households = costs\n",
    "        if total < min_costs:\n",
    "            min_costs = total\n",
    "            min_config = configuration\n",
    "            min_households = costs\n",
    "        \n",
    "    print(\"Max: %s: %.2f\" % (max_config, max_costs) )\n",
    "    \n",
    "    print(\"Min: %s: %.2f\" % (min_config, min_costs) )\n",
    "\n",
    "    \n",
    "            \n"
   ]
  },
  {
   "cell_type": "code",
   "execution_count": 13,
   "metadata": {},
   "outputs": [
    {
     "name": "stdout",
     "output_type": "stream",
     "text": [
      "PV w/o enerDAG 32\n",
      "enerDAG w/o battery 32\n",
      "PV + Battery (10kWh) w/o enerDAG 32\n",
      "enerDAG Simple Battery (10 kWh) 32\n",
      "enerDAG Smart Battery (10 kWh) 32\n",
      "PV + Battery (5kWh) w/o enerDAG 32\n",
      "enerDAG Simple Battery (5 kWh) 32\n",
      "enerDAG Smart Battery (SARIMA, 5 kWh) 32\n",
      "enerDAG Smart Battery (Perfect, 5 kWh) 32\n"
     ]
    }
   ],
   "source": [
    "for key, val in plot_data_prosumers.items():\n",
    "    print(key, len(val))"
   ]
  },
  {
   "cell_type": "code",
   "execution_count": 14,
   "metadata": {},
   "outputs": [
    {
     "data": {
      "image/png": "[encoded data removed]",
      "text/plain": [
       "<Figure size 576x864 with 1 Axes>"
      ]
     },
     "metadata": {
      "needs_background": "light"
     },
     "output_type": "display_data"
    }
   ],
   "source": [
    "fig, ax = plt.subplots(figsize=(8,12))\n",
    "\n",
    "# https://colorbrewer2.org/#type=qualitative&scheme=Paired&n=4\n",
    "colors = ['#a6cee3','#1f78b4','#b2df8a','#33a02c']\n",
    "\n",
    "market_colors = ['#1b9e77','#d95f02','#7570b3','#e7298a']\n",
    "\n",
    "\n",
    "legend = create_normal_bar_chart(ax, plot_data_prosumers, colors=colors[:1])\n",
    "ax.legend(legend)\n",
    "# print_costs(plot_data_prosumers)\n",
    "# get_min_max_costs(plot_data_prosumers)\n",
    "fig.tight_layout()\n",
    "fig.savefig(PurePath(figure_folder, \"economic_comparison_neighborhood_configs.png\"))\n"
   ]
  },
  {
   "cell_type": "code",
   "execution_count": 15,
   "metadata": {},
   "outputs": [
    {
     "name": "stdout",
     "output_type": "stream",
     "text": [
      "PV w/o enerDAG & \\myEUR{31823,57}  \\\\ \n",
      "enerDAG w/o battery & \\myEUR{25464,73}  \\\\ \n",
      "PV + Battery (10kWh) w/o enerDAG & \\myEUR{21978,70}  \\\\ \n",
      "enerDAG Simple Battery (10 kWh) & \\myEUR{18099,47}  \\\\ \n",
      "enerDAG Smart Battery (10 kWh) & \\myEUR{17423,94}  \\\\ \n",
      "PV + Battery (5kWh) w/o enerDAG & \\myEUR{24288,41}  \\\\ \n",
      "enerDAG Simple Battery (5 kWh) & \\myEUR{20213,99}  \\\\ \n",
      "enerDAG Smart Battery (SARIMA, 5 kWh) & \\myEUR{20700,86}  \\\\ \n",
      "enerDAG Smart Battery (Perfect, 5 kWh) & \\myEUR{19663,79}  \\\\ \n",
      "\n"
     ]
    }
   ],
   "source": [
    "print(tex_model_costs(plot_data_prosumers))"
   ]
  },
  {
   "cell_type": "code",
   "execution_count": 16,
   "metadata": {},
   "outputs": [
    {
     "name": "stdout",
     "output_type": "stream",
     "text": [
      "PV w/o enerDAG 31823.570000000003\n",
      "enerDAG w/o battery 25464.730000000003\n",
      "PV + Battery (10kWh) w/o enerDAG 21978.7\n",
      "enerDAG Simple Battery (10 kWh) 18099.47\n",
      "enerDAG Smart Battery (10 kWh) 17423.94\n",
      "PV + Battery (5kWh) w/o enerDAG 24288.41\n",
      "enerDAG Simple Battery (5 kWh) 20213.98999999999\n",
      "enerDAG Smart Battery (SARIMA, 5 kWh) 20700.86\n",
      "enerDAG Smart Battery (Perfect, 5 kWh) 19663.79\n",
      "17423.94 enerDAG Smart Battery (10 kWh)\n",
      "31823.570000000003 PV w/o enerDAG\n",
      "14399.630000000005\n",
      "449.98843750000015\n"
     ]
    }
   ],
   "source": [
    "min_cost, min_scenario, max_cost, max_scenario = (10e6, None, -10e6, None)\n",
    "for scenario, prosumer_costs in plot_data_prosumers.items():\n",
    "    scenario_cost = sum(map(lambda x: x[1], prosumer_costs))\n",
    "    print(scenario, scenario_cost)\n",
    "    min_cost = min(min_cost, scenario_cost)\n",
    "    max_cost = max(max_cost, scenario_cost)\n",
    "    if scenario_cost == max_cost:\n",
    "        max_scenario = scenario\n",
    "    if scenario_cost == min_cost:\n",
    "        min_scenario = scenario\n",
    "\n",
    "print(min_cost, min_scenario)\n",
    "print(max_cost, max_scenario)\n",
    "print(max_cost - min_cost)\n",
    "print((max_cost - min_cost)/32)"
   ]
  },
  {
   "cell_type": "code",
   "execution_count": 17,
   "metadata": {},
   "outputs": [
    {
     "data": {
      "text/plain": [
       "675.5300000000025"
      ]
     },
     "execution_count": 17,
     "metadata": {},
     "output_type": "execute_result"
    }
   ],
   "source": [
    "prosumer_simple = 18099.47\n",
    "prosuner_smart = 17423.94 \n",
    "diff_prosumer_simple_smart = prosumer_simple - prosuner_smart\n",
    "diff_prosumer_simple_smart"
   ]
  },
  {
   "cell_type": "code",
   "execution_count": 18,
   "metadata": {},
   "outputs": [
    {
     "data": {
      "text/plain": [
       "21.110312500000077"
      ]
     },
     "execution_count": 18,
     "metadata": {},
     "output_type": "execute_result"
    }
   ],
   "source": [
    "diff_prosumer_simple_smart / 32"
   ]
  },
  {
   "cell_type": "markdown",
   "metadata": {},
   "source": [
    "## Vergleiche die Vorhersagemodelle bei enerDAG mit SmartBattery \n",
    "Stromkosten von SmartBattery bei verschiedenen Vorhersagemodellen\n",
    "- SARIMA\n",
    "- B24\n",
    "- Perfect\n",
    "    "
   ]
  },
  {
   "cell_type": "code",
   "execution_count": 19,
   "metadata": {},
   "outputs": [],
   "source": [
    "def sarima_model_str(ar, i, ma, p, q, d) -> str:\n",
    "    return \"CSV_(%d, %d, %d)_(%d, %d, %d, 24)_history_4_SmartBattery_10000Wh\" %(ar, i, ma, p, q,d)\n",
    "\n",
    "MODEL_PERFECT = \"Perfect\"\n",
    "MODEL_B24 = \"B24\"\n",
    "MODEL_SARIMA_101 = \"$(1,0,1)\\\\times (1,0,1)24$\"\n",
    "MODEL_SARIMA_200 = \"$(1,0,1)\\\\times (2,0,0)24$\"\n",
    "\n",
    "simulation_files_model_comparison =  {\n",
    "    MODEL_PERFECT: create_sim_file_name('CSV_perfect_SmartBattery_10000Wh'), \n",
    "    MODEL_B24: create_sim_file_name('CSV_backschift_24h_SmartBattery_10000Wh'),\n",
    "    MODEL_SARIMA_101: create_sim_file_name(sarima_model_str(1,0,1,1,0,1)),\n",
    "    MODEL_SARIMA_200: create_sim_file_name(sarima_model_str(1,0,1,2,0,0)), \n",
    "}\n",
    "\n",
    "\n",
    "\n",
    "simulation_dataframes_model_comparison = map_dict_values(simulation_files_model_comparison, lambda x: convert_hdf5_to_viewdict(h5py.File(x)))\n",
    "\n",
    "sim_hh_costs_model_comparison = map_dict_values(simulation_dataframes_model_comparison, lambda x: dict([(name, household_power_cost(df, prices)) for (name, df) in x.items()]))\n",
    "\n",
    "plot_data_model_comparison = dict()\n",
    "for sim in simulation_dataframes_model_comparison:\n",
    "    plot_data_model_comparison[sim] = calc_enerdag_total_cost(simulation_dataframes_model_comparison[sim], prices)\n"
   ]
  },
  {
   "cell_type": "code",
   "execution_count": 20,
   "metadata": {},
   "outputs": [
    {
     "name": "stdout",
     "output_type": "stream",
     "text": [
      "Max: $(1,0,1)\\times (2,0,0)24$: 17423.94\n",
      "Min: Perfect: 16624.48\n"
     ]
    },
    {
     "data": {
      "image/png": "[encoded data removed]",
      "text/plain": [
       "<Figure size 432x288 with 1 Axes>"
      ]
     },
     "metadata": {
      "needs_background": "light"
     },
     "output_type": "display_data"
    }
   ],
   "source": [
    "fig, ax = plt.subplots()\n",
    "legend = create_normal_bar_chart(ax, plot_data_model_comparison, colors=colors[:1])\n",
    "# print_costs(plot_data_model_comparison)\n",
    "get_min_max_costs(plot_data_model_comparison)\n",
    "\n",
    "fig.legend(legend);\n",
    "fig.savefig(PurePath(figure_folder, \"economic_comparisons_models.png\"))\n"
   ]
  },
  {
   "cell_type": "code",
   "execution_count": 21,
   "metadata": {},
   "outputs": [
    {
     "data": {
      "text/plain": [
       "dict_keys(['Perfect', 'B24', '$(1,0,1)\\\\times (1,0,1)24$', '$(1,0,1)\\\\times (2,0,0)24$'])"
      ]
     },
     "execution_count": 21,
     "metadata": {},
     "output_type": "execute_result"
    }
   ],
   "source": [
    "\n",
    "plot_data_model_comparison.keys()"
   ]
  },
  {
   "cell_type": "code",
   "execution_count": 22,
   "metadata": {},
   "outputs": [],
   "source": [
    "# Ausgabe ist zum erstellen einer tex tabelle da.\n",
    "# print(tex_model_costs(plot_data_model_comparison))"
   ]
  },
  {
   "cell_type": "code",
   "execution_count": 23,
   "metadata": {},
   "outputs": [],
   "source": [
    "# print(construct_cost_info_string(sim_hh_costs_model_comparison))"
   ]
  },
  {
   "cell_type": "code",
   "execution_count": 24,
   "metadata": {},
   "outputs": [],
   "source": [
    "def create_diff_data(data: Dict[str, List[Tuple[str, float]]], base_key) -> Dict[str, List[Tuple[str, float]]]:\n",
    "    base = data[base_key]\n",
    "    new_data = dict()\n",
    "    for key in data:\n",
    "        if key == base_key:\n",
    "            continue\n",
    "        model_result = [(base_key if base_key == model_key else \"keys dont match\", model_val - base_val) \n",
    "                            for (base_key, base_val), (model_key, model_val) in zip(base, data[key])]\n",
    "        \n",
    "\n",
    "        new_data[key] = model_result\n",
    "    return new_data\n",
    "\n",
    "model_comparison_diff = create_diff_data(plot_data_model_comparison, MODEL_PERFECT)\n"
   ]
  },
  {
   "cell_type": "code",
   "execution_count": 25,
   "metadata": {},
   "outputs": [
    {
     "data": {
      "image/png": "[encoded data removed]",
      "text/plain": [
       "<Figure size 432x288 with 1 Axes>"
      ]
     },
     "metadata": {
      "needs_background": "light"
     },
     "output_type": "display_data"
    }
   ],
   "source": [
    "\n",
    "fig, ax = plt.subplots()\n",
    "legend = create_normal_bar_chart(ax, model_comparison_diff, colors=colors)\n",
    "\n",
    "fig.legend(legend);\n",
    "fig.tight_layout()\n",
    "fig.savefig(PurePath(figure_folder, \"economic_comparisons_models_difference.png\"))"
   ]
  },
  {
   "cell_type": "code",
   "execution_count": null,
   "metadata": {},
   "outputs": [],
   "source": []
  },
  {
   "cell_type": "code",
   "execution_count": 26,
   "metadata": {},
   "outputs": [],
   "source": [
    "scenario_diff_plot_data = plot_data_model_comparison\n",
    "scenario_diff_plot_data[ENERDAG_WITH_10kWh_SIMPLE] = plot_data_prosumers[ENERDAG_WITH_10kWh_SIMPLE]\n",
    "scenario_comp_diff = create_diff_data(scenario_diff_plot_data, ENERDAG_WITH_10kWh_SIMPLE)\n"
   ]
  },
  {
   "cell_type": "code",
   "execution_count": 27,
   "metadata": {},
   "outputs": [
    {
     "name": "stdout",
     "output_type": "stream",
     "text": [
      "Max: $(1,0,1)\\times (2,0,0)24$: -675.53\n",
      "Min: Perfect: -1474.99\n"
     ]
    },
    {
     "data": {
      "image/png": "[encoded data removed]",
      "text/plain": [
       "<Figure size 864x576 with 1 Axes>"
      ]
     },
     "metadata": {
      "needs_background": "light"
     },
     "output_type": "display_data"
    }
   ],
   "source": [
    "\n",
    "plt.rcParams['font.size'] = '16'\n",
    "fig, ax = plt.subplots(figsize=(12,8))\n",
    "legend = create_normal_bar_chart(ax, scenario_comp_diff, colors=colors[:1])\n",
    "\n",
    "get_min_max_costs(scenario_comp_diff)\n",
    "\n",
    "fig.legend(legend);\n",
    "fig.tight_layout()\n",
    "fig.savefig(PurePath(figure_folder, \"economic_comparisons_smart_simple_battery.png\"))\n"
   ]
  },
  {
   "cell_type": "code",
   "execution_count": 28,
   "metadata": {},
   "outputs": [
    {
     "data": {
      "text/plain": [
       "array([18., 12.])"
      ]
     },
     "execution_count": 28,
     "metadata": {},
     "output_type": "execute_result"
    }
   ],
   "source": [
    "fig.get_size_inches() * 1.5"
   ]
  },
  {
   "cell_type": "markdown",
   "metadata": {},
   "source": [
    "# Für Konsumenten: \n"
   ]
  },
  {
   "cell_type": "code",
   "execution_count": 29,
   "metadata": {},
   "outputs": [],
   "source": [
    "def consumer_calc_buy_cost(energy_stats: HouseholdEnergyStats, price_spec: PriceSpec):\n",
    "    \"\"\" \n",
    "    Calculate the Cost when someone buys all the consumed energy from the utility provider\n",
    "    \"\"\"\n",
    "    return (energy_stats.total_energy.total_energy * price_spec.cost_buy_from_grid.to_euro()) / 1000\n",
    "\n",
    "def filter_consumers_and_apply_func(func, energy_stats: Dict[str, HouseholdEnergyStats], prices: PriceSpec):\n",
    "    prosumers = dict(list(filter(lambda x: \"consumer\" in x[0], list(energy_stats.items()))))\n",
    "    return [(name, func(stats, prices)) for (name,stats) in prosumers.items()]\n",
    "\n",
    "def cal_buy_cost_for_consumers(energy_stats: Dict[str, HouseholdEnergyStats], prices: PriceSpec):\n",
    "    return filter_consumers_and_apply_func(lambda x,y : consumer_calc_buy_cost(x,y), energy_stats, prices)\n",
    "\n",
    "def calc_pv_wo_enerdag_consumers(energy_stats: Dict[str, HouseholdEnergyStats], prices: PriceSpec):\n",
    "    return filter_consumers_and_apply_func(lambda x,y: calc_costs_pv_wo_enerdag(x,y).to_euro(), energy_stats, prices)\n",
    "    \n",
    "\n",
    "\n",
    "def calc_pv_and_batter_wo_enerdag_consumers(energy_stats: Dict[str, HouseholdEnergyStats], prices: PriceSpec):\n",
    "    return filter_consumers_and_apply_func(lambda x,y: calc_costs_pv_and_battery_wo_enerdag(x,y).to_euro(), energy_stats, prices)\n",
    "    \n",
    "def calc_enerdag_total_cost_consumers(energy_stats: Dict[str, HouseholdEnergyStats], prices: PriceSpec):\n",
    "    return filter_consumers_and_apply_func(lambda stats, prices: household_power_cost(stats, prices).total_energy.total_money.to_euro(), energy_stats, prices)\n"
   ]
  },
  {
   "cell_type": "code",
   "execution_count": 30,
   "metadata": {},
   "outputs": [
    {
     "data": {
      "text/plain": [
       "dict_keys(['No Battery', 'Simple Battery (10 kWh)', 'SARIMA Smart Battery (10 kWh)', 'Simple Battery (5 kWh)', 'SARIMA SmartBattery (5 kWh)', 'Perfect SmartBattery (5 kWh)', 'Perfect SmartBattery (10 kWh)'])"
      ]
     },
     "execution_count": 30,
     "metadata": {},
     "output_type": "execute_result"
    }
   ],
   "source": [
    "simulation_dataframes.keys()"
   ]
  },
  {
   "cell_type": "code",
   "execution_count": 31,
   "metadata": {},
   "outputs": [],
   "source": [
    "\n",
    "plot_data_consumers = {\n",
    "    PV_AND_BATT_10kWh: calc_pv_and_batter_wo_enerdag_consumers(simulation_dataframes[KEY_SIMPLE_10_kWh], prices), \n",
    "    ENERDAG_WO_BATT: calc_enerdag_total_cost_consumers(simulation_dataframes[KEY_NO_BATTERY], prices),\n",
    "    ENERDAG_WITH_10kWh_SIMPLE: calc_enerdag_total_cost_consumers(simulation_dataframes[KEY_SIMPLE_10_kWh], prices), \n",
    "    ENERDAG_WITH_10kWh_SMART: calc_enerdag_total_cost_consumers(simulation_dataframes[KEY_SARIMA_SMART_10kWh], prices), \n",
    "}\n",
    "    "
   ]
  },
  {
   "cell_type": "code",
   "execution_count": 32,
   "metadata": {},
   "outputs": [
    {
     "name": "stdout",
     "output_type": "stream",
     "text": [
      "Max: PV + Battery (10kWh) w/o enerDAG: 43583.14\n",
      "Min: enerDAG Smart Battery (10 kWh): 39697.07\n"
     ]
    },
    {
     "data": {
      "image/png": "[encoded data removed]",
      "text/plain": [
       "<Figure size 432x288 with 1 Axes>"
      ]
     },
     "metadata": {
      "needs_background": "light"
     },
     "output_type": "display_data"
    }
   ],
   "source": [
    "fig, ax = plt.subplots()\n",
    "legend = create_normal_bar_chart(ax, plot_data_consumers, colors=colors)\n",
    "get_min_max_costs(plot_data_consumers)\n",
    "\n",
    "fig.legend(legend);"
   ]
  },
  {
   "cell_type": "code",
   "execution_count": 33,
   "metadata": {},
   "outputs": [
    {
     "name": "stdout",
     "output_type": "stream",
     "text": [
      "PV + Battery (10kWh) w/o enerDAG 43583.14000000001\n",
      "enerDAG w/o battery 40497.93\n",
      "enerDAG Simple Battery (10 kWh) 41370.350000000006\n",
      "enerDAG Smart Battery (10 kWh) 39697.07\n",
      "39697.07 enerDAG Smart Battery (10 kWh)\n",
      "43583.14000000001 PV + Battery (10kWh) w/o enerDAG\n",
      "3886.070000000007\n",
      "121.43968750000022\n"
     ]
    }
   ],
   "source": [
    "min_cost, min_scenario, max_cost, max_scenario = (10e6, None, -10e6, None)\n",
    "for scenario, prosumer_costs in plot_data_consumers.items():\n",
    "    scenario_cost = sum(map(lambda x: x[1], prosumer_costs))\n",
    "    print(scenario, scenario_cost)\n",
    "    min_cost = min(min_cost, scenario_cost)\n",
    "    max_cost = max(max_cost, scenario_cost)\n",
    "    if scenario_cost == max_cost:\n",
    "        max_scenario = scenario\n",
    "    if scenario_cost == min_cost:\n",
    "        min_scenario = scenario\n",
    "\n",
    "print(min_cost, min_scenario)\n",
    "print(max_cost, max_scenario)\n",
    "print(max_cost - min_cost)\n",
    "print((max_cost - min_cost)/32)"
   ]
  },
  {
   "cell_type": "code",
   "execution_count": 34,
   "metadata": {},
   "outputs": [
    {
     "data": {
      "text/plain": [
       "1673.2799999999988"
      ]
     },
     "execution_count": 34,
     "metadata": {},
     "output_type": "execute_result"
    }
   ],
   "source": [
    "simple_minus_smart = (41370.35  - min_cost) \n",
    "simple_minus_smart"
   ]
  },
  {
   "cell_type": "code",
   "execution_count": 35,
   "metadata": {},
   "outputs": [
    {
     "data": {
      "text/plain": [
       "52.289999999999964"
      ]
     },
     "execution_count": 35,
     "metadata": {},
     "output_type": "execute_result"
    }
   ],
   "source": [
    "simple_minus_smart / 32"
   ]
  },
  {
   "cell_type": "code",
   "execution_count": 36,
   "metadata": {},
   "outputs": [
    {
     "name": "stdout",
     "output_type": "stream",
     "text": [
      "PV + Battery (10kWh) w/o enerDAG & \\myEUR{43583,14}  \\\\ \n",
      "enerDAG w/o battery & \\myEUR{40497,93}  \\\\ \n",
      "enerDAG Simple Battery (10 kWh) & \\myEUR{41370,35}  \\\\ \n",
      "enerDAG Smart Battery (10 kWh) & \\myEUR{39697,07}  \\\\ \n",
      "\n"
     ]
    }
   ],
   "source": [
    "print(tex_model_costs(plot_data_consumers))"
   ]
  },
  {
   "cell_type": "code",
   "execution_count": 43,
   "metadata": {},
   "outputs": [
    {
     "name": "stdout",
     "output_type": "stream",
     "text": [
      "enerDAG Simple Battery (5 kWh) 41274.21\n",
      "enerDAG Smart Battery (SARIMA, 5 kWh) 40361.46\n",
      "enerDAG Smart Battery (Perfect, 5 kWh) 40736.76\n"
     ]
    }
   ],
   "source": [
    "plot_data_consumers_5kWh = {\n",
    "     # \"Kein PV\":  cal_buy_cost_for_consumers(simulation_costs[\"NoBattery\"], prices), \n",
    "    #\"Ohne enerDAG\": calc_pv_wo_enerdag_consumers(simulation_dataframes[\"NoBattery\"], prices), \n",
    "    \n",
    "    \n",
    "    ENERDAG_WITH_5kWh_SIMPLE: calc_enerdag_total_cost_consumers(simulation_dataframes[KEY_SIMPLE_5_kWh], prices), \n",
    "    ENERDAG_WITH_5kWh_SMART: calc_enerdag_total_cost_consumers(simulation_dataframes[KEY_SARIMA_SMART_5kWh], prices), \n",
    "    ENERDAG_WITH_5kWh_SMART_PERFECT: calc_enerdag_total_cost_consumers(simulation_dataframes[KEY_PERFECT_SMART_5kWh], prices), \n",
    "}\n",
    "min_cost, min_scenario, max_cost, max_scenario = (10e6, None, -10e6, None)\n",
    "for scenario, prosumer_costs in plot_data_consumers_5kWh.items():\n",
    "    scenario_cost = sum(map(lambda x: x[1], prosumer_costs))\n",
    "    print(scenario, scenario_cost)\n",
    "    min_cost = min(min_cost, scenario_cost)\n",
    "    max_cost = max(max_cost, scenario_cost)\n",
    "    if scenario_cost == max_cost:\n",
    "        max_scenario = scenario\n",
    "    if scenario_cost == min_cost:\n",
    "        min_scenario = scenario"
   ]
  },
  {
   "cell_type": "code",
   "execution_count": 37,
   "metadata": {},
   "outputs": [],
   "source": [
    "\n",
    "consumer_plot_data_model_comparison = dict()\n",
    "for sim in simulation_dataframes_model_comparison:\n",
    "    consumer_plot_data_model_comparison[sim] = calc_enerdag_total_cost_consumers(simulation_dataframes_model_comparison[sim], prices)\n"
   ]
  },
  {
   "cell_type": "code",
   "execution_count": 38,
   "metadata": {},
   "outputs": [
    {
     "name": "stdout",
     "output_type": "stream",
     "text": [
      "Max: Perfect: 39905.41\n",
      "Min: $(1,0,1)\\times (1,0,1)24$: 39680.48\n"
     ]
    },
    {
     "data": {
      "text/plain": [
       "<matplotlib.legend.Legend at 0x7f41e3a27dc0>"
      ]
     },
     "execution_count": 38,
     "metadata": {},
     "output_type": "execute_result"
    },
    {
     "data": {
      "image/png": "[encoded data removed]",
      "text/plain": [
       "<Figure size 432x288 with 1 Axes>"
      ]
     },
     "metadata": {
      "needs_background": "light"
     },
     "output_type": "display_data"
    }
   ],
   "source": [
    "fig, ax = plt.subplots()\n",
    "legend = create_normal_bar_chart(ax, consumer_plot_data_model_comparison, colors=colors)\n",
    "get_min_max_costs(consumer_plot_data_model_comparison)\n",
    "\n",
    "fig.legend(legend)\n"
   ]
  },
  {
   "cell_type": "code",
   "execution_count": 39,
   "metadata": {},
   "outputs": [],
   "source": [
    "scenario_diff_plot_data = plot_data_model_comparison\n",
    "scenario_diff_plot_data[ENERDAG_WITH_10kWh_SIMPLE] = plot_data_prosumers[ENERDAG_WITH_10kWh_SIMPLE]\n",
    "scenario_comp_diff = create_diff_data(scenario_diff_plot_data, ENERDAG_WITH_10kWh_SIMPLE)\n"
   ]
  },
  {
   "cell_type": "code",
   "execution_count": 40,
   "metadata": {},
   "outputs": [
    {
     "name": "stdout",
     "output_type": "stream",
     "text": [
      "Max: $(1,0,1)\\times (2,0,0)24$: -675.53\n",
      "Min: Perfect: -1474.99\n"
     ]
    },
    {
     "data": {
      "image/png": "[encoded data removed]",
      "text/plain": [
       "<Figure size 864x576 with 1 Axes>"
      ]
     },
     "metadata": {
      "needs_background": "light"
     },
     "output_type": "display_data"
    }
   ],
   "source": [
    "plt.rcParams['font.size'] = '16'\n",
    "fig, ax = plt.subplots(figsize=(12,8))\n",
    "legend = create_normal_bar_chart(ax, scenario_comp_diff, colors=colors)\n",
    "# print_costs(plot_data_model_comparison)\n",
    "get_min_max_costs(scenario_comp_diff)\n",
    "\n",
    "fig.legend(legend);\n",
    "fig.tight_layout()\n",
    "fig.savefig(PurePath(figure_folder, \"economic_comparisons_smart_simple_battery.png\"))\n"
   ]
  },
  {
   "cell_type": "code",
   "execution_count": null,
   "metadata": {},
   "outputs": [],
   "source": []
  },
  {
   "cell_type": "code",
   "execution_count": 41,
   "metadata": {},
   "outputs": [
    {
     "ename": "KeyError",
     "evalue": "'NoBattery'",
     "output_type": "error",
     "traceback": [
      "\u001b[0;31m---------------------------------------------------------------------------\u001b[0m",
      "\u001b[0;31mKeyError\u001b[0m                                  Traceback (most recent call last)",
      "\u001b[0;32m<ipython-input-41-c4c2f39ec75d>\u001b[0m in \u001b[0;36m<module>\u001b[0;34m\u001b[0m\n\u001b[1;32m      8\u001b[0m plot_data_consumers_alternate_prices = {\n\u001b[1;32m      9\u001b[0m      \u001b[0;31m#\"Kein PV\":  cal_buy_cost_for_consumers(simulation_costs[\"NoBattery\"], alternate_prices),\u001b[0m\u001b[0;34m\u001b[0m\u001b[0;34m\u001b[0m\u001b[0;34m\u001b[0m\u001b[0m\n\u001b[0;32m---> 10\u001b[0;31m     \u001b[0;34m\"Ohne enerDAG\"\u001b[0m\u001b[0;34m:\u001b[0m \u001b[0mcalc_pv_wo_enerdag_consumers\u001b[0m\u001b[0;34m(\u001b[0m\u001b[0msimulation_dataframes\u001b[0m\u001b[0;34m[\u001b[0m\u001b[0;34m\"NoBattery\"\u001b[0m\u001b[0;34m]\u001b[0m\u001b[0;34m,\u001b[0m \u001b[0malternate_prices\u001b[0m\u001b[0;34m)\u001b[0m\u001b[0;34m,\u001b[0m\u001b[0;34m\u001b[0m\u001b[0;34m\u001b[0m\u001b[0m\n\u001b[0m\u001b[1;32m     11\u001b[0m     \u001b[0;34m\"PV + Batterie \"\u001b[0m\u001b[0;34m:\u001b[0m \u001b[0mcalc_pv_and_batter_wo_enerdag_consumers\u001b[0m\u001b[0;34m(\u001b[0m\u001b[0msimulation_dataframes\u001b[0m\u001b[0;34m[\u001b[0m\u001b[0;34m\"SimpleBattery (10 kWh)\"\u001b[0m\u001b[0;34m]\u001b[0m\u001b[0;34m,\u001b[0m \u001b[0malternate_prices\u001b[0m\u001b[0;34m)\u001b[0m\u001b[0;34m,\u001b[0m\u001b[0;34m\u001b[0m\u001b[0;34m\u001b[0m\u001b[0m\n\u001b[1;32m     12\u001b[0m     \u001b[0;34m\"enerDAG ohne Batterie\"\u001b[0m\u001b[0;34m:\u001b[0m \u001b[0mcalc_enerdag_total_cost_consumers\u001b[0m\u001b[0;34m(\u001b[0m\u001b[0msimulation_dataframes\u001b[0m\u001b[0;34m[\u001b[0m\u001b[0;34m\"NoBattery\"\u001b[0m\u001b[0;34m]\u001b[0m\u001b[0;34m,\u001b[0m \u001b[0malternate_prices\u001b[0m\u001b[0;34m)\u001b[0m\u001b[0;34m,\u001b[0m\u001b[0;34m\u001b[0m\u001b[0;34m\u001b[0m\u001b[0m\n",
      "\u001b[0;31mKeyError\u001b[0m: 'NoBattery'"
     ]
    }
   ],
   "source": [
    "alternate_prices = PriceSpec(\n",
    "            Money.from_cents(6),\n",
    "            Money.from_cents(30),\n",
    "            cost_of_generation=Money.from_cents(6),\n",
    "            cost_of_storage=Money.from_cents(10),\n",
    "            enerdag_net_costs=Money.from_cents(0),\n",
    "            avg_p2p_trade=Money.from_cents(19),)\n",
    "plot_data_consumers_alternate_prices = {\n",
    "     #\"Kein PV\":  cal_buy_cost_for_consumers(simulation_costs[\"NoBattery\"], alternate_prices), \n",
    "    \"Ohne enerDAG\": calc_pv_wo_enerdag_consumers(simulation_dataframes[\"NoBattery\"], alternate_prices), \n",
    "    \"PV + Batterie \": calc_pv_and_batter_wo_enerdag_consumers(simulation_dataframes[\"SimpleBattery (10 kWh)\"], alternate_prices), \n",
    "    \"enerDAG ohne Batterie\": calc_enerdag_total_cost_consumers(simulation_dataframes[\"NoBattery\"], alternate_prices),\n",
    "    \"enerDAG SimpleBattery\": calc_enerdag_total_cost_consumers(simulation_dataframes[\"SimpleBattery (10 kWh)\"], alternate_prices), \n",
    "    \"enerDAG SmartBattery\": calc_enerdag_total_cost_consumers(simulation_dataframes[\"SarimaSmartBattery (10 kWh)\"], alternate_prices), \n",
    "}"
   ]
  },
  {
   "cell_type": "code",
   "execution_count": null,
   "metadata": {},
   "outputs": [],
   "source": [
    "fig, ax = plt.subplots()\n",
    "legend = create_stacked_barchart(ax, plot_data_consumers_alternate_prices, colors=colors)\n",
    "get_min_max_costs(plot_data_consumers_alternate_prices)\n",
    "\n",
    "fig.legend(legend)\n"
   ]
  },
  {
   "cell_type": "code",
   "execution_count": null,
   "metadata": {},
   "outputs": [],
   "source": []
  }
 ],
 "metadata": {
  "interpreter": {
   "hash": "8905e9ebf5b1c5e7c5e54a86e02a3d8bc827f137d4b9865ad3dd3672b56bbe79"
  },
  "kernelspec": {
   "display_name": "Python 3",
   "language": "python",
   "name": "python3"
  },
  "language_info": {
   "codemirror_mode": {
    "name": "ipython",
    "version": 3
   },
   "file_extension": ".py",
   "mimetype": "text/x-python",
   "name": "python",
   "nbconvert_exporter": "python",
   "pygments_lexer": "ipython3",
   "version": "3.8.10"
  }
 },
 "nbformat": 4,
 "nbformat_minor": 4
}
