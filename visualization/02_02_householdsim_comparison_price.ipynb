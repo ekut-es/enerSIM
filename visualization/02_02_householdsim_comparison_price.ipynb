{
 "cells": [
  {
   "cell_type": "code",
   "execution_count": 1,
   "metadata": {},
   "outputs": [],
   "source": [
    "%config Completer.use_jedi = False"
   ]
  },
  {
   "cell_type": "code",
   "execution_count": 2,
   "metadata": {},
   "outputs": [],
   "source": [
    "\n",
    "import numpy as np\n",
    "import matplotlib.pyplot as plt\n",
    "import pandas as pd\n",
    "import os\n",
    "from typing import List, Dict, Tuple\n",
    "from evaluation_utils.evaluation_utils import map_dict_values"
   ]
  },
  {
   "cell_type": "code",
   "execution_count": 3,
   "metadata": {},
   "outputs": [],
   "source": [
    "import sys\n",
    "sys.path.append('..')"
   ]
  },
  {
   "cell_type": "code",
   "execution_count": 4,
   "metadata": {},
   "outputs": [
    {
     "name": "stdout",
     "output_type": "stream",
     "text": [
      "['/home/flo/Workspace/Uni/Masterarbeit/simulation/visualization', '/usr/lib/python38.zip', '/usr/lib/python3.8', '/usr/lib/python3.8/lib-dynload', '', '/home/flo/Workspace/Uni/Masterarbeit/mosaikvenv/lib/python3.8/site-packages', '/home/flo/Workspace/Uni/Masterarbeit/simulation', '/home/flo/Workspace/Uni/Masterarbeit/simulation/batterysim', '/home/flo/Workspace/Uni/Masterarbeit/simulation/householdsim', '/home/flo/Workspace/Uni/Masterarbeit/mosaikvenv/lib/python3.8/site-packages/IPython/extensions', '/home/flo/.ipython', '..']\n"
     ]
    }
   ],
   "source": [
    "print(sys.path)"
   ]
  },
  {
   "cell_type": "code",
   "execution_count": 5,
   "metadata": {},
   "outputs": [],
   "source": [
    "import evaluation_utils.hdf5_to_df\n",
    "from evaluation_utils.pricing import *"
   ]
  },
  {
   "cell_type": "code",
   "execution_count": 6,
   "metadata": {},
   "outputs": [],
   "source": [
    "from pathlib import PurePath\n",
    "\n",
    "\n",
    "simulation_directory = PurePath(\"data/enerdag_sim_prosumer/householdsim\")\n",
    "\n",
    "sim_name = \"from_2016-03-01_to_2017-02-01_ConProPV_(3, 3, 0)_%s.hdf5\"\n",
    "def create_sim_file_name(specifier):\n",
    "    return PurePath(simulation_directory, sim_name % specifier)\n",
    "#import os \n",
    "#os.listdir(simulation_directory)"
   ]
  },
  {
   "cell_type": "code",
   "execution_count": 7,
   "metadata": {},
   "outputs": [],
   "source": [
    "figure_folder = PurePath(\"figures/cossmic\")"
   ]
  },
  {
   "cell_type": "markdown",
   "metadata": {},
   "source": [
    "# Wirtschaftlichkeit Vergleichen\n",
    "## Arten des Stromhandels\n",
    "Vergleiche Stromkosten der Prosumenten und Konsumenten\n",
    "- Kein PV\n",
    "- PV ohne enerDAG\n",
    "- PV + Batterie ohne enerDAG\n",
    "- enerDAG ohne Batterie\n",
    "- enerDAG mit SimpleBattery\n",
    "- enerDAG mit SmartBattery (SARIMA Modell)\n"
   ]
  },
  {
   "cell_type": "code",
   "execution_count": 8,
   "metadata": {},
   "outputs": [],
   "source": [
    "prices = PriceSpec(\n",
    "            Money(int(714 * Money.FRACTION_MULTIPLIER / 100) ),\n",
    "            Money(int(31 * Money.FRACTION_MULTIPLIER)),\n",
    "            cost_of_generation=Money(6 * Money.FRACTION_MULTIPLIER ),\n",
    "            cost_of_storage=Money((int) (55 * Money.FRACTION_MULTIPLIER / 10)),\n",
    "            enerdag_net_costs=Money.from_cents(5),\n",
    "            avg_p2p_trade=Money.from_cents(19),)\n",
    "\n",
    "\n",
    "KEY_NO_BATTERY = \"No Battery\"\n",
    "KEY_SIMPLE_10_kWh = \"Simple Battery (10 kWh)\"\n",
    "KEY_SIMPLE_5_kWh = \"Simple Battery (5 kWh)\"\n",
    "KEY_SARIMA_SMART_10kWh  = \"SARIMA Smart Battery (10 kWh)\"\n",
    "KEY_PERFECT_SMART_10kWh = \"Perfect SmartBattery (10 kWh)\"\n",
    "KEY_SARIMA_SMART_5kWh = \"SARIMA SmartBattery (5 kWh)\"\n",
    "KEY_PERFECT_SMART_5kWh = \"Perfect SmartBattery (5 kWh)\"\n",
    "\n",
    "simulation_file_paths =  {\n",
    "    KEY_NO_BATTERY: create_sim_file_name(\"NoBattery_0Wh\"),\n",
    "    KEY_SIMPLE_10_kWh: create_sim_file_name(\"SimpleBattery_10000Wh\"),\n",
    "    KEY_SARIMA_SMART_10kWh: create_sim_file_name(\"CSV_(1, 0, 1)_(2, 0, 0, 24)_history_4_SmartBattery_10000Wh\"),\n",
    "    KEY_SIMPLE_5_kWh: create_sim_file_name(\"SimpleBattery_5000Wh\"),\n",
    "    KEY_SARIMA_SMART_5kWh: create_sim_file_name(\"CSV_(1, 0, 1)_(2, 0, 0, 24)_history_4_SmartBattery_5000Wh\")\n",
    "}\n",
    "\n",
    "\n",
    "def create_new_dict_with_function(d, func):\n",
    "    new_d = dict()\n",
    "    for sim in d:\n",
    "        new_d[sim] = func(d[sim])\n",
    "    return new_d\n",
    "\n",
    "\n",
    "\n",
    "  \n",
    "\n",
    "\n",
    "simulation_dataframes = map_dict_values(simulation_file_paths, lambda x: convert_hdf5_to_viewdict(h5py.File(x)))\n",
    "\n",
    "simulation_costs = map_dict_values(simulation_dataframes, lambda x: dict([(name, household_power_cost(df, prices)) for (name, df) in x.items()]))\n",
    "\n"
   ]
  },
  {
   "cell_type": "code",
   "execution_count": 9,
   "metadata": {},
   "outputs": [],
   "source": [
    "def eid_to_label(eid: str) -> str:\n",
    "    if \"pid\" in eid:\n",
    "        pid = int(eid.split(\"pid\")[1][0])\n",
    "        return \"Prosumer %d\" % (pid, )\n",
    "    else: \n",
    "        return eid.split(\".\")[-1]\n",
    "def print_model_costs(prices: Dict[str, List[Tuple[str, float]]]):\n",
    "    for model, model_prices in prices.items():\n",
    "        print(\"%s: %.2f\" % (model, sum(map(lambda x: x[1], model_prices))))\n",
    "        for pid, price in model_prices:\n",
    "            print(\"\\t%s: %.2f\" % (eid_to_label(pid), price))\n",
    "    \n",
    "def tex_model_costs(prices: Dict[str, List[Tuple[str, float]]]):\n",
    "    s = \"\"\n",
    "    for model, model_prices in prices.items():\n",
    "        s =  \"%s%s\" % (s, model ,)\n",
    "        total =  sum(map(lambda x: x[1], model_prices))\n",
    "        for pid, price in model_prices:\n",
    "            s = (\"%s & \\\\myEUR{%.2f}\" % (s, price)).replace(\".\", \",\")\n",
    "        s = (\"%s & \\\\myEUR{%.2f}\" % (s, total)).replace(\".\", \",\")\n",
    "        s = (\"%s  \\\\\\\\ %s\" % (s, os.linesep))\n",
    "    \n",
    "    return s\n"
   ]
  },
  {
   "cell_type": "code",
   "execution_count": 10,
   "metadata": {},
   "outputs": [
    {
     "name": "stdout",
     "output_type": "stream",
     "text": [
      "No Battery\n",
      "consumer_0\n",
      "\ttotal: 723.68€ = 2558.05kWH * 0.28€ \n",
      "\tbuy_p2p: 198.22€ = 825.92kWH * 0.24€ \n",
      "\tsell_to_p2p: 0.00€ = 0.00kWH * 0.00€ \n",
      "\tbuy_from_utilities: 525.46€ = 1695.04kWH * 0.31€ \n",
      "\tsell_to_utlitites: 0.00€ = 0.00kWH * 0.00€ \n",
      "\tcost_of_generation: 0.00€ = 0.00kWH * 0.00€ \n",
      "\tcost_of_discharge: 0.00€ = 0.00kWH * 0.00€ \n",
      "consumer_1\n",
      "\ttotal: 682.09€ = 2381.09kWH * 0.28€ \n",
      "\tbuy_p2p: 149.37€ = 622.40kWH * 0.24€ \n",
      "\tsell_to_p2p: 0.00€ = 0.00kWH * 0.00€ \n",
      "\tbuy_from_utilities: 532.72€ = 1718.45kWH * 0.31€ \n",
      "\tsell_to_utlitites: 0.00€ = 0.00kWH * 0.00€ \n",
      "\tcost_of_generation: 0.00€ = 0.00kWH * 0.00€ \n",
      "\tcost_of_discharge: 0.00€ = 0.00kWH * 0.00€ \n",
      "consumer_2\n",
      "\ttotal: 1330.61€ = 4661.95kWH * 0.28€ \n",
      "\tbuy_p2p: 346.26€ = 1442.76kWH * 0.24€ \n",
      "\tsell_to_p2p: 0.00€ = 0.00kWH * 0.00€ \n",
      "\tbuy_from_utilities: 984.34€ = 3175.32kWH * 0.31€ \n",
      "\tsell_to_utlitites: 0.00€ = 0.00kWH * 0.00€ \n",
      "\tcost_of_generation: 0.00€ = 0.00kWH * 0.00€ \n",
      "\tcost_of_discharge: 0.00€ = 0.00kWH * 0.00€ \n",
      "Prosumer 1\n",
      "\ttotal: 768.68€ = 4661.96kWH * 0.16€ \n",
      "\tbuy_p2p: 19.33€ = 80.57kWH * 0.24€ \n",
      "\tsell_to_p2p: -210.35€ = -1107.12kWH * 0.19€ \n",
      "\tbuy_from_utilities: 852.27€ = 2749.26kWH * 0.31€ \n",
      "\tsell_to_utlitites: -424.62€ = -5947.08kWH * 0.07€ \n",
      "\tcost_of_generation: 532.05€ = 8867.59kWH * 0.06€ \n",
      "\tcost_of_discharge: 0.00€ = 0.00kWH * 0.00€ \n",
      "Prosumer 3\n",
      "\ttotal: 1029.22€ = 5061.54kWH * 0.20€ \n",
      "\tbuy_p2p: 48.79€ = 203.30kWH * 0.24€ \n",
      "\tsell_to_p2p: -150.19€ = -790.52kWH * 0.19€ \n",
      "\tbuy_from_utilities: 1009.59€ = 3256.75kWH * 0.31€ \n",
      "\tsell_to_utlitites: -132.96€ = -1862.19kWH * 0.07€ \n",
      "\tcost_of_generation: 254.00€ = 4233.38kWH * 0.05€ \n",
      "\tcost_of_discharge: 0.00€ = 0.00kWH * 0.00€ \n",
      "Prosumer 4\n",
      "\ttotal: 1026.85€ = 6244.11kWH * 0.16€ \n",
      "\tbuy_p2p: 16.56€ = 69.03kWH * 0.24€ \n",
      "\tsell_to_p2p: -255.80€ = -1346.33kWH * 0.19€ \n",
      "\tbuy_from_utilities: 1103.15€ = 3558.56kWH * 0.31€ \n",
      "\tsell_to_utlitites: -463.44€ = -6490.87kWH * 0.07€ \n",
      "\tcost_of_generation: 626.38€ = 10439.72kWH * 0.06€ \n",
      "\tcost_of_discharge: 0.00€ = 0.00kWH * 0.00€ \n",
      "Simple Battery (10 kWh)\n",
      "consumer_0\n",
      "\ttotal: 743.59€ = 2558.05kWH * 0.29€ \n",
      "\tbuy_p2p: 129.96€ = 541.52kWH * 0.24€ \n",
      "\tsell_to_p2p: 0.00€ = 0.00kWH * 0.00€ \n",
      "\tbuy_from_utilities: 613.62€ = 1979.45kWH * 0.31€ \n",
      "\tsell_to_utlitites: 0.00€ = 0.00kWH * 0.00€ \n",
      "\tcost_of_generation: 0.00€ = 0.00kWH * 0.00€ \n",
      "\tcost_of_discharge: 0.00€ = 0.00kWH * 0.00€ \n",
      "consumer_1\n",
      "\ttotal: 697.83€ = 2381.09kWH * 0.29€ \n",
      "\tbuy_p2p: 95.40€ = 397.50kWH * 0.24€ \n",
      "\tsell_to_p2p: 0.00€ = 0.00kWH * 0.00€ \n",
      "\tbuy_from_utilities: 602.43€ = 1943.35kWH * 0.31€ \n",
      "\tsell_to_utlitites: 0.00€ = 0.00kWH * 0.00€ \n",
      "\tcost_of_generation: 0.00€ = 0.00kWH * 0.00€ \n",
      "\tcost_of_discharge: 0.00€ = 0.00kWH * 0.00€ \n",
      "consumer_2\n",
      "\ttotal: 1362.08€ = 4661.95kWH * 0.29€ \n",
      "\tbuy_p2p: 238.35€ = 993.13kWH * 0.24€ \n",
      "\tsell_to_p2p: 0.00€ = 0.00kWH * 0.00€ \n",
      "\tbuy_from_utilities: 1123.73€ = 3624.94kWH * 0.31€ \n",
      "\tsell_to_utlitites: 0.00€ = 0.00kWH * 0.00€ \n",
      "\tcost_of_generation: 0.00€ = 0.00kWH * 0.00€ \n",
      "\tcost_of_discharge: 0.00€ = 0.00kWH * 0.00€ \n",
      "Prosumer 1\n",
      "\ttotal: 483.63€ = 4661.96kWH * 0.10€ \n",
      "\tbuy_p2p: 0.00€ = 0.00kWH * 0.00€ \n",
      "\tsell_to_p2p: -125.66€ = -661.38kWH * 0.19€ \n",
      "\tbuy_from_utilities: 297.16€ = 958.59kWH * 0.31€ \n",
      "\tsell_to_utlitites: -322.84€ = -4521.59kWH * 0.07€ \n",
      "\tcost_of_generation: 532.05€ = 8867.59kWH * 0.06€ \n",
      "\tcost_of_discharge: 102.91€ = 1871.24kWH * 0.05€ \n",
      "Prosumer 3\n",
      "\ttotal: 819.19€ = 5061.54kWH * 0.16€ \n",
      "\tbuy_p2p: 1.53€ = 6.39kWH * 0.24€ \n",
      "\tsell_to_p2p: -45.26€ = -238.22kWH * 0.19€ \n",
      "\tbuy_from_utilities: 582.12€ = 1877.83kWH * 0.31€ \n",
      "\tsell_to_utlitites: -59.87€ = -838.65kWH * 0.07€ \n",
      "\tcost_of_generation: 254.00€ = 4233.38kWH * 0.05€ \n",
      "\tcost_of_discharge: 86.67€ = 1575.83kWH * 0.05€ \n",
      "Prosumer 4\n",
      "\ttotal: 820.09€ = 6244.11kWH * 0.13€ \n",
      "\tbuy_p2p: 0.00€ = 0.00kWH * 0.00€ \n",
      "\tsell_to_p2p: -197.39€ = -1038.94kWH * 0.19€ \n",
      "\tbuy_from_utilities: 705.74€ = 2276.59kWH * 0.31€ \n",
      "\tsell_to_utlitites: -388.93€ = -5447.26kWH * 0.07€ \n",
      "\tcost_of_generation: 626.38€ = 10439.72kWH * 0.06€ \n",
      "\tcost_of_discharge: 74.30€ = 1351.00kWH * 0.05€ \n",
      "SARIMA Smart Battery (10 kWh)\n",
      "consumer_0\n",
      "\ttotal: 662.38€ = 2381.09kWH * 0.27€ \n",
      "\tbuy_p2p: 216.96€ = 904.01kWH * 0.24€ \n",
      "\tsell_to_p2p: 0.00€ = 0.00kWH * 0.00€ \n",
      "\tbuy_from_utilities: 445.42€ = 1436.84kWH * 0.31€ \n",
      "\tsell_to_utlitites: 0.00€ = 0.00kWH * 0.00€ \n",
      "\tcost_of_generation: 0.00€ = 0.00kWH * 0.00€ \n",
      "\tcost_of_discharge: 0.00€ = 0.00kWH * 0.00€ \n",
      "consumer_1\n",
      "\ttotal: 1286.59€ = 4661.95kWH * 0.27€ \n",
      "\tbuy_p2p: 497.15€ = 2071.50kWH * 0.24€ \n",
      "\tsell_to_p2p: 0.00€ = 0.00kWH * 0.00€ \n",
      "\tbuy_from_utilities: 789.43€ = 2546.58kWH * 0.31€ \n",
      "\tsell_to_utlitites: 0.00€ = 0.00kWH * 0.00€ \n",
      "\tcost_of_generation: 0.00€ = 0.00kWH * 0.00€ \n",
      "\tcost_of_discharge: 0.00€ = 0.00kWH * 0.00€ \n",
      "consumer_2\n",
      "\ttotal: 708.86€ = 2558.05kWH * 0.27€ \n",
      "\tbuy_p2p: 249.04€ = 1037.69kWH * 0.24€ \n",
      "\tsell_to_p2p: 0.00€ = 0.00kWH * 0.00€ \n",
      "\tbuy_from_utilities: 459.81€ = 1483.28kWH * 0.31€ \n",
      "\tsell_to_utlitites: 0.00€ = 0.00kWH * 0.00€ \n",
      "\tcost_of_generation: 0.00€ = 0.00kWH * 0.00€ \n",
      "\tcost_of_discharge: 0.00€ = 0.00kWH * 0.00€ \n",
      "Prosumer 1\n",
      "\ttotal: 434.38€ = 4661.96kWH * 0.09€ \n",
      "\tbuy_p2p: 3.38€ = 14.11kWH * 0.24€ \n",
      "\tsell_to_p2p: -281.23€ = -1480.21kWH * 0.19€ \n",
      "\tbuy_from_utilities: 322.16€ = 1039.23kWH * 0.31€ \n",
      "\tsell_to_utlitites: -272.07€ = -3810.62kWH * 0.07€ \n",
      "\tcost_of_generation: 532.05€ = 8867.59kWH * 0.06€ \n",
      "\tcost_of_discharge: 130.10€ = 2365.52kWH * 0.05€ \n",
      "Prosumer 3\n",
      "\ttotal: 807.17€ = 5061.54kWH * 0.15€ \n",
      "\tbuy_p2p: 21.88€ = 91.19kWH * 0.24€ \n",
      "\tsell_to_p2p: -92.68€ = -487.81kWH * 0.19€ \n",
      "\tbuy_from_utilities: 573.94€ = 1851.43kWH * 0.31€ \n",
      "\tsell_to_utlitites: -46.74€ = -654.75kWH * 0.07€ \n",
      "\tcost_of_generation: 254.00€ = 4233.38kWH * 0.05€ \n",
      "\tcost_of_discharge: 96.77€ = 1759.58kWH * 0.05€ \n",
      "Prosumer 4\n",
      "\ttotal: 770.42€ = 6244.11kWH * 0.12€ \n",
      "\tbuy_p2p: 0.40€ = 1.70kWH * 0.24€ \n",
      "\tsell_to_p2p: -408.91€ = -2152.18kWH * 0.19€ \n",
      "\tbuy_from_utilities: 740.51€ = 2388.74kWH * 0.31€ \n",
      "\tsell_to_utlitites: -318.59€ = -4462.17kWH * 0.07€ \n",
      "\tcost_of_generation: 626.38€ = 10439.72kWH * 0.06€ \n",
      "\tcost_of_discharge: 130.63€ = 2375.14kWH * 0.05€ \n",
      "Simple Battery (5 kWh)\n",
      "consumer_0\n",
      "\ttotal: 695.18€ = 2381.09kWH * 0.29€ \n",
      "\tbuy_p2p: 104.49€ = 435.39kWH * 0.24€ \n",
      "\tsell_to_p2p: 0.00€ = 0.00kWH * 0.00€ \n",
      "\tbuy_from_utilities: 590.69€ = 1905.46kWH * 0.31€ \n",
      "\tsell_to_utlitites: 0.00€ = 0.00kWH * 0.00€ \n",
      "\tcost_of_generation: 0.00€ = 0.00kWH * 0.00€ \n",
      "\tcost_of_discharge: 0.00€ = 0.00kWH * 0.00€ \n",
      "consumer_1\n",
      "\ttotal: 1356.81€ = 4661.95kWH * 0.29€ \n",
      "\tbuy_p2p: 256.41€ = 1068.41kWH * 0.24€ \n",
      "\tsell_to_p2p: 0.00€ = 0.00kWH * 0.00€ \n",
      "\tbuy_from_utilities: 1100.39€ = 3549.67kWH * 0.31€ \n",
      "\tsell_to_utlitites: 0.00€ = 0.00kWH * 0.00€ \n",
      "\tcost_of_generation: 0.00€ = 0.00kWH * 0.00€ \n",
      "\tcost_of_discharge: 0.00€ = 0.00kWH * 0.00€ \n",
      "consumer_2\n",
      "\ttotal: 740.85€ = 2558.05kWH * 0.28€ \n",
      "\tbuy_p2p: 139.34€ = 580.59kWH * 0.24€ \n",
      "\tsell_to_p2p: 0.00€ = 0.00kWH * 0.00€ \n",
      "\tbuy_from_utilities: 601.51€ = 1940.37kWH * 0.31€ \n",
      "\tsell_to_utlitites: 0.00€ = 0.00kWH * 0.00€ \n",
      "\tcost_of_generation: 0.00€ = 0.00kWH * 0.00€ \n",
      "\tcost_of_discharge: 0.00€ = 0.00kWH * 0.00€ \n",
      "Prosumer 1\n",
      "\ttotal: 561.43€ = 4661.96kWH * 0.12€ \n",
      "\tbuy_p2p: 0.58€ = 2.42kWH * 0.23€ \n",
      "\tsell_to_p2p: -138.49€ = -728.90kWH * 0.19€ \n",
      "\tbuy_from_utilities: 441.57€ = 1424.44kWH * 0.31€ \n",
      "\tsell_to_utlitites: -351.45€ = -4922.34kWH * 0.07€ \n",
      "\tcost_of_generation: 532.05€ = 8867.59kWH * 0.06€ \n",
      "\tcost_of_discharge: 77.16€ = 1402.97kWH * 0.05€ \n",
      "Prosumer 3\n",
      "\ttotal: 884.34€ = 5061.54kWH * 0.17€ \n",
      "\tbuy_p2p: 2.29€ = 9.55kWH * 0.23€ \n",
      "\tsell_to_p2p: -63.47€ = -334.07kWH * 0.18€ \n",
      "\tbuy_from_utilities: 710.72€ = 2292.67kWH * 0.31€ \n",
      "\tsell_to_utlitites: -82.88€ = -1160.81kWH * 0.07€ \n",
      "\tcost_of_generation: 254.00€ = 4233.38kWH * 0.05€ \n",
      "\tcost_of_discharge: 63.68€ = 1157.83kWH * 0.05€ \n",
      "Prosumer 4\n",
      "\ttotal: 872.60€ = 6244.11kWH * 0.13€ \n",
      "\tbuy_p2p: 0.20€ = 0.87kWH * 0.24€ \n",
      "\tsell_to_p2p: -196.51€ = -1034.27kWH * 0.18€ \n",
      "\tbuy_from_utilities: 793.30€ = 2559.03kWH * 0.31€ \n",
      "\tsell_to_utlitites: -409.49€ = -5735.25kWH * 0.07€ \n",
      "\tcost_of_generation: 626.38€ = 10439.72kWH * 0.06€ \n",
      "\tcost_of_discharge: 58.72€ = 1067.69kWH * 0.05€ \n",
      "SARIMA SmartBattery (5 kWh)\n",
      "consumer_0\n",
      "\ttotal: 723.09€ = 2558.05kWH * 0.28€ \n",
      "\tbuy_p2p: 200.22€ = 834.28kWH * 0.24€ \n",
      "\tsell_to_p2p: 0.00€ = 0.00kWH * 0.00€ \n",
      "\tbuy_from_utilities: 522.87€ = 1686.68kWH * 0.31€ \n",
      "\tsell_to_utlitites: 0.00€ = 0.00kWH * 0.00€ \n",
      "\tcost_of_generation: 0.00€ = 0.00kWH * 0.00€ \n",
      "\tcost_of_discharge: 0.00€ = 0.00kWH * 0.00€ \n",
      "consumer_1\n",
      "\ttotal: 679.67€ = 2381.09kWH * 0.28€ \n",
      "\tbuy_p2p: 157.66€ = 656.94kWH * 0.24€ \n",
      "\tsell_to_p2p: 0.00€ = 0.00kWH * 0.00€ \n",
      "\tbuy_from_utilities: 522.01€ = 1683.92kWH * 0.31€ \n",
      "\tsell_to_utlitites: 0.00€ = 0.00kWH * 0.00€ \n",
      "\tcost_of_generation: 0.00€ = 0.00kWH * 0.00€ \n",
      "\tcost_of_discharge: 0.00€ = 0.00kWH * 0.00€ \n",
      "consumer_2\n",
      "\ttotal: 1323.77€ = 4661.95kWH * 0.28€ \n",
      "\tbuy_p2p: 369.69€ = 1540.40kWH * 0.24€ \n",
      "\tsell_to_p2p: 0.00€ = 0.00kWH * 0.00€ \n",
      "\tbuy_from_utilities: 954.08€ = 3077.68kWH * 0.31€ \n",
      "\tsell_to_utlitites: 0.00€ = 0.00kWH * 0.00€ \n",
      "\tcost_of_generation: 0.00€ = 0.00kWH * 0.00€ \n",
      "\tcost_of_discharge: 0.00€ = 0.00kWH * 0.00€ \n",
      "Prosumer 1\n",
      "\ttotal: 548.51€ = 4661.96kWH * 0.11€ \n",
      "\tbuy_p2p: 2.07€ = 8.66kWH * 0.24€ \n",
      "\tsell_to_p2p: -211.19€ = -1111.54kWH * 0.19€ \n",
      "\tbuy_from_utilities: 477.68€ = 1540.92kWH * 0.31€ \n",
      "\tsell_to_utlitites: -333.18€ = -4666.49kWH * 0.07€ \n",
      "\tcost_of_generation: 532.05€ = 8867.59kWH * 0.06€ \n",
      "\tcost_of_discharge: 81.07€ = 1474.15kWH * 0.05€ \n",
      "Prosumer 3\n",
      "\ttotal: 884.98€ = 5061.54kWH * 0.17€ \n",
      "\tbuy_p2p: 11.77€ = 49.05kWH * 0.24€ \n",
      "\tsell_to_p2p: -85.62€ = -450.64kWH * 0.19€ \n",
      "\tbuy_from_utilities: 718.21€ = 2316.83kWH * 0.30€ \n",
      "\tsell_to_utlitites: -79.27€ = -1110.33kWH * 0.07€ \n",
      "\tcost_of_generation: 254.00€ = 4233.38kWH * 0.05€ \n",
      "\tcost_of_discharge: 65.89€ = 1198.06kWH * 0.05€ \n",
      "Prosumer 4\n",
      "\ttotal: 860.48€ = 6244.11kWH * 0.13€ \n",
      "\tbuy_p2p: 2.00€ = 8.34kWH * 0.23€ \n",
      "\tsell_to_p2p: -291.74€ = -1535.49kWH * 0.19€ \n",
      "\tbuy_from_utilities: 824.30€ = 2659.05kWH * 0.31€ \n",
      "\tsell_to_utlitites: -381.76€ = -5346.83kWH * 0.07€ \n",
      "\tcost_of_generation: 626.38€ = 10439.72kWH * 0.06€ \n",
      "\tcost_of_discharge: 81.29€ = 1478.15kWH * 0.05€ \n",
      "\n"
     ]
    }
   ],
   "source": [
    "def construct_cost_info_string(d):\n",
    "    s = \"\"\n",
    "    for sim in d:\n",
    "        s += sim + os.linesep\n",
    "        for eid, stats in d[sim].items():\n",
    "            s += eid_to_label(eid) + os.linesep\n",
    "            s += str(stats) + os.linesep\n",
    "    return s\n",
    "print(construct_cost_info_string(simulation_costs))"
   ]
  },
  {
   "cell_type": "code",
   "execution_count": 11,
   "metadata": {},
   "outputs": [],
   "source": [
    "def calc_buy_cost(energy_stats: HouseholdEnergyStats, price_spec: PriceSpec):\n",
    "    \"\"\" \n",
    "    Calculate the Cost when someone buys all the consumed energy from the utility provider\n",
    "    \"\"\"\n",
    "    return (energy_stats.total_energy.total_energy * price_spec.cost_buy_from_grid.to_euro()) / 1000\n",
    "\n",
    "def filter_prosumers_and_apply_func(func, energy_stats: Dict[str, HouseholdEnergyStats], prices: PriceSpec):\n",
    "    prosumers = dict(list(filter(lambda x: \"prosumer\" in x[0], list(energy_stats.items()))))\n",
    "    return [(name, func(stats, prices)) for (name,stats) in prosumers.items()]\n",
    "\n",
    "def cal_buy_cost_for_prosumers(energy_stats: Dict[str, HouseholdEnergyStats], prices: PriceSpec):\n",
    "    return filter_prosumers_and_apply_func(calc_buy_cost, energy_stats, prices)\n",
    "\n",
    "def calc_pv_wo_enerdag(energy_stats: Dict[str, HouseholdEnergyStats], prices: PriceSpec):\n",
    "    prosumers = dict(list(filter(lambda x: \"prosumer\" in x[0], list(energy_stats.items()))))    \n",
    "    return [(name, calc_costs_pv_wo_enerdag(stats, prices).to_euro()) for (name, stats) in prosumers.items()]\n",
    "\n",
    "\n",
    "def calc_pv_and_batter_wo_enerdag(energy_stats: Dict[str, HouseholdEnergyStats], prices: PriceSpec):\n",
    "    prosumers = dict(list(filter(lambda x: \"prosumer\" in x[0], list(energy_stats.items()))))    \n",
    "    return [(name, calc_costs_pv_and_battery_wo_enerdag(stats, prices).to_euro()) for (name,stats) in prosumers.items()]\n",
    "\n",
    "def calc_enerdag_total_cost(energy_stats: Dict[str, HouseholdEnergyStats], prices: PriceSpec):\n",
    "    prosumers = dict(list(filter(lambda x: \"prosumer\" in x[0], list(energy_stats.items()))))    \n",
    "    return [(name, household_power_cost(stats, prices).total_energy.total_money.to_euro()) for (name,stats) in prosumers.items()]\n",
    "\n",
    "\n",
    "NO_PV = \"No PV\"\n",
    "PV_AND_BATT_10kWh = \"PV + Battery (10kWh) w/o enerDAG\"\n",
    "PV_AND_BATT_5kWh = \"PV + Battery (5kWh) w/o enerDAG\"\n",
    "PV_WO_ENERDAG = \"PV w/o enerDAG\"\n",
    "ENERDAG_WO_BATT = \"enerDAG w/o battery\"\n",
    "ENERDAG_WITH_10kWh_SIMPLE = \"enerDAG Simple Battery (10 kWh)\"\n",
    "ENERDAG_WITH_5kWh_SIMPLE = \"enerDAG Simple Battery (5 kWh)\"\n",
    "ENERDAG_WITH_10kWh_SMART = \"enerDAG Smart Battery (10 kWh)\"\n",
    "ENERDAG_WITH_5kWh_SMART = \"enerDAG Smart Battery (5 kWh)\"\n",
    "\n",
    "\n",
    "plot_data_prosumers = {\n",
    "    # NO_PV:  cal_buy_cost_for_prosumers(simulation_costs[KEY_NO_BATTERY], prices), \n",
    "    PV_WO_ENERDAG: calc_pv_wo_enerdag(simulation_dataframes[KEY_NO_BATTERY], prices), \n",
    "    ENERDAG_WO_BATT: calc_enerdag_total_cost(simulation_dataframes[KEY_NO_BATTERY], prices),\n",
    "    PV_AND_BATT_10kWh: calc_pv_and_batter_wo_enerdag(simulation_dataframes[KEY_SIMPLE_10_kWh], prices), \n",
    "    ENERDAG_WITH_10kWh_SIMPLE: calc_enerdag_total_cost(simulation_dataframes[KEY_SIMPLE_10_kWh], prices), \n",
    "    ENERDAG_WITH_10kWh_SMART: calc_enerdag_total_cost(simulation_dataframes[KEY_SARIMA_SMART_10kWh], prices), \n",
    "    PV_AND_BATT_5kWh: calc_pv_and_batter_wo_enerdag(simulation_dataframes[KEY_SIMPLE_5_kWh], prices), \n",
    "    ENERDAG_WITH_5kWh_SIMPLE: calc_enerdag_total_cost(simulation_dataframes[KEY_SIMPLE_5_kWh], prices), \n",
    "    ENERDAG_WITH_5kWh_SMART: calc_enerdag_total_cost(simulation_dataframes[KEY_SARIMA_SMART_5kWh], prices), \n",
    "}\n"
   ]
  },
  {
   "cell_type": "code",
   "execution_count": 12,
   "metadata": {},
   "outputs": [
    {
     "name": "stdout",
     "output_type": "stream",
     "text": [
      "PV w/o enerDAG: 3234.20\n",
      "\tProsumer 1: 905.63\n",
      "\tProsumer 3: 1137.21\n",
      "\tProsumer 4: 1191.36\n",
      "enerDAG w/o battery: 2824.75\n",
      "\tProsumer 1: 768.68\n",
      "\tProsumer 3: 1029.22\n",
      "\tProsumer 4: 1026.85\n",
      "PV + Battery (10kWh) w/o enerDAG: 2353.27\n",
      "\tProsumer 1: 562.07\n",
      "\tProsumer 3: 847.89\n",
      "\tProsumer 4: 943.31\n",
      "enerDAG Simple Battery (10 kWh): 2122.91\n",
      "\tProsumer 1: 483.63\n",
      "\tProsumer 3: 819.19\n",
      "\tProsumer 4: 820.09\n",
      "enerDAG Smart Battery (10 kWh): 2011.97\n",
      "\tProsumer 1: 434.38\n",
      "\tProsumer 3: 807.17\n",
      "\tProsumer 4: 770.42\n",
      "PV + Battery (5kWh) w/o enerDAG: 2568.00\n",
      "\tProsumer 1: 648.04\n",
      "\tProsumer 3: 924.63\n",
      "\tProsumer 4: 995.33\n",
      "enerDAG Simple Battery (5 kWh): 2318.37\n",
      "\tProsumer 1: 561.43\n",
      "\tProsumer 3: 884.34\n",
      "\tProsumer 4: 872.60\n",
      "enerDAG Smart Battery (5 kWh): 2293.97\n",
      "\tProsumer 1: 548.51\n",
      "\tProsumer 3: 884.98\n",
      "\tProsumer 4: 860.48\n"
     ]
    }
   ],
   "source": [
    "print_model_costs(plot_data_prosumers)"
   ]
  },
  {
   "cell_type": "code",
   "execution_count": 13,
   "metadata": {},
   "outputs": [],
   "source": [
    "\n",
    "\n",
    "\n",
    "def create_stacked_barchart(ax, plot_data, colors):\n",
    "    bar_x_coordinates = []\n",
    "    bar_height = []\n",
    "    bar_y_coordinates = []\n",
    "    bar_color = []\n",
    "    tick_labels = []\n",
    "    legend = None\n",
    "    for x_index, (configuration, costs) in enumerate(plot_data.items()):\n",
    "\n",
    "        legend = []\n",
    "        for y_index, cost in enumerate(costs):\n",
    "          \n",
    "\n",
    "\n",
    "            legend.append(eid_to_label(cost[0]))\n",
    "            tick_labels.append(configuration)\n",
    "\n",
    "            bar_x_coordinates.append(x_index)\n",
    "            y_coord = sum(list(map(lambda x: x[1], costs[:y_index])))\n",
    "            bar_y_coordinates.append(y_coord)\n",
    "            bar_height.append(cost[1])\n",
    "            bar_color.append(colors[y_index])\n",
    "        \n",
    "    ax.bar(x=bar_x_coordinates[::3], height=bar_height[::3], tick_label=tick_labels[::3] ,bottom=bar_y_coordinates[::3], color=bar_color[::3])\n",
    "    ax.bar(x=bar_x_coordinates[1::3], height=bar_height[1::3], tick_label=tick_labels[1::3] ,bottom=bar_y_coordinates[1::3], color=bar_color[1::3])\n",
    "    ax.bar(x=bar_x_coordinates[2::3], height=bar_height[2::3], tick_label=tick_labels[2::3] ,bottom=bar_y_coordinates[2::3], color=bar_color[2::3])\n",
    "    for tick in ax.get_xticklabels():\n",
    "        tick.set_rotation(90)\n",
    "    ax.set_ylabel(\"€\")\n",
    "    return legend\n",
    "\n",
    "def print_costs(plot_data): \n",
    "     for (configuration, costs) in plot_data.items():\n",
    "\n",
    "        \n",
    "        print(configuration)\n",
    "        total = 0\n",
    "        for cost in costs:\n",
    "            household_name = eid_to_label(cost[0])\n",
    "            cost_household = cost[1]\n",
    "            print(\"\\t%s: %.2f\" % (household_name, cost_household))\n",
    "        total  = sum(list(map(lambda x: x[1], costs)))\n",
    "        print(\"\\ttotal: %.2f\" % ( total, ))\n",
    "\n",
    "def get_min_max_costs(plot_data): \n",
    "    min_costs = np.float64(\"inf\")\n",
    "    max_costs = np.float64(\"-inf\")\n",
    "\n",
    "    max_config, max_households  = (None, None)\n",
    "    min_config, min_households  = (None, None)\n",
    "    for  (configuration, costs) in plot_data.items():\n",
    "\n",
    "        total  = sum(list(map(lambda x: x[1], costs)))\n",
    "        if total > max_costs:\n",
    "            max_costs = total\n",
    "            max_config = configuration\n",
    "            max_households = costs\n",
    "        if total < min_costs:\n",
    "            min_costs = total\n",
    "            min_config = configuration\n",
    "            min_households = costs\n",
    "        \n",
    "    print(\"Max: %s: %.2f\" % (max_config, max_costs) )\n",
    "    print(\"\\t\", max_households)\n",
    "    \n",
    "    print(\"Min: %s: %.2f\" % (min_config, min_costs) )\n",
    "    print(\"\\t\", min_households)\n",
    "    \n",
    "            \n"
   ]
  },
  {
   "cell_type": "code",
   "execution_count": 14,
   "metadata": {},
   "outputs": [
    {
     "name": "stdout",
     "output_type": "stream",
     "text": [
      "Max: PV w/o enerDAG: 3234.20\n",
      "\t [('Series/Rust_Sim-0.pid1_prosumer_0', 905.63), ('Series/Rust_Sim-0.pid3_prosumer_1', 1137.21), ('Series/Rust_Sim-0.pid4_prosumer_2', 1191.36)]\n",
      "Min: enerDAG Smart Battery (10 kWh): 2011.97\n",
      "\t [('Series/Rust_Sim-0.pid1_prosumer_0', 434.38), ('Series/Rust_Sim-0.pid3_prosumer_1', 807.17), ('Series/Rust_Sim-0.pid4_prosumer_2', 770.42)]\n"
     ]
    },
    {
     "data": {
      "image/png": "[encoded data removed]",
      "text/plain": [
       "<Figure size 432x576 with 1 Axes>"
      ]
     },
     "metadata": {
      "needs_background": "light"
     },
     "output_type": "display_data"
    }
   ],
   "source": [
    "fig, ax = plt.subplots(figsize=(6,8))\n",
    "\n",
    "# https://colorbrewer2.org/#type=qualitative&scheme=Paired&n=4\n",
    "colors = ['#a6cee3','#1f78b4','#b2df8a','#33a02c']\n",
    "\n",
    "market_colors = ['#1b9e77','#d95f02','#7570b3','#e7298a']\n",
    "\n",
    "\n",
    "legend = create_stacked_barchart(ax, plot_data_prosumers, colors=colors)\n",
    "ax.legend(legend)\n",
    "# print_costs(plot_data_prosumers)\n",
    "get_min_max_costs(plot_data_prosumers)\n",
    "fig.tight_layout()\n",
    "fig.savefig(PurePath(figure_folder, \"economic_comparison_neighborhood_configs.png\"))\n"
   ]
  },
  {
   "cell_type": "code",
   "execution_count": 15,
   "metadata": {},
   "outputs": [
    {
     "name": "stdout",
     "output_type": "stream",
     "text": [
      "PV w/o enerDAG & \\myEUR{905,63} & \\myEUR{1137,21} & \\myEUR{1191,36} & \\myEUR{3234,20}  \\\\ \n",
      "enerDAG w/o battery & \\myEUR{768,68} & \\myEUR{1029,22} & \\myEUR{1026,85} & \\myEUR{2824,75}  \\\\ \n",
      "PV + Battery (10kWh) w/o enerDAG & \\myEUR{562,07} & \\myEUR{847,89} & \\myEUR{943,31} & \\myEUR{2353,27}  \\\\ \n",
      "enerDAG Simple Battery (10 kWh) & \\myEUR{483,63} & \\myEUR{819,19} & \\myEUR{820,09} & \\myEUR{2122,91}  \\\\ \n",
      "enerDAG Smart Battery (10 kWh) & \\myEUR{434,38} & \\myEUR{807,17} & \\myEUR{770,42} & \\myEUR{2011,97}  \\\\ \n",
      "PV + Battery (5kWh) w/o enerDAG & \\myEUR{648,04} & \\myEUR{924,63} & \\myEUR{995,33} & \\myEUR{2568,00}  \\\\ \n",
      "enerDAG Simple Battery (5 kWh) & \\myEUR{561,43} & \\myEUR{884,34} & \\myEUR{872,60} & \\myEUR{2318,37}  \\\\ \n",
      "enerDAG Smart Battery (5 kWh) & \\myEUR{548,51} & \\myEUR{884,98} & \\myEUR{860,48} & \\myEUR{2293,97}  \\\\ \n",
      "\n"
     ]
    }
   ],
   "source": [
    "print(tex_model_costs(plot_data_prosumers))"
   ]
  },
  {
   "cell_type": "markdown",
   "metadata": {},
   "source": [
    "## Vergleiche die Vorhersagemodelle bei enerDAG mit SmartBattery \n",
    "Stromkosten von SmartBattery bei verschiedenen Vorhersagemodellen\n",
    "- SARIMA\n",
    "- UEMA\n",
    "- B24\n",
    "- Perfect\n",
    "    "
   ]
  },
  {
   "cell_type": "code",
   "execution_count": 16,
   "metadata": {},
   "outputs": [],
   "source": [
    "def sarima_model_str(ar, i, ma, p, q, d) -> str:\n",
    "    return \"CSV_(%d, %d, %d)_(%d, %d, %d, 24)_history_4_SmartBattery_10000Wh\" %(ar, i, ma, p, q,d)\n",
    "\n",
    "MODEL_PERFECT = \"Perfect\"\n",
    "MODEL_B24 = \"B24\"\n",
    "MODEL_SARIMA_101 = \"$(1,0,1)\\\\times (1,0,1)24$\"\n",
    "MODEL_SARIMA_200 = \"$(1,0,1)\\\\times (2,0,0)24$\"\n",
    "\n",
    "simulation_files_model_comparison =  {\n",
    "    MODEL_PERFECT: create_sim_file_name('CSV_perfect_SmartBattery_10000Wh'), \n",
    "    MODEL_B24: create_sim_file_name('CSV_backschift_24h_SmartBattery_10000Wh'),\n",
    "    MODEL_SARIMA_101: create_sim_file_name(sarima_model_str(1,0,1,1,0,1)),\n",
    "    MODEL_SARIMA_200: create_sim_file_name(sarima_model_str(1,0,1,2,0,0)), \n",
    "}\n",
    "\n",
    "\n",
    "simulation_dataframes_model_comparison = map_dict_values(simulation_files_model_comparison, lambda x: convert_hdf5_to_viewdict(h5py.File(x)))\n",
    "\n",
    "sim_hh_costs_model_comparison = map_dict_values(simulation_dataframes_model_comparison, lambda x: dict([(name, household_power_cost(df, prices)) for (name, df) in x.items()]))\n",
    "\n",
    "plot_data_model_comparison = dict()\n",
    "for sim in simulation_dataframes_model_comparison:\n",
    "    plot_data_model_comparison[sim] = calc_enerdag_total_cost(simulation_dataframes_model_comparison[sim], prices)\n"
   ]
  },
  {
   "cell_type": "code",
   "execution_count": 17,
   "metadata": {},
   "outputs": [
    {
     "name": "stdout",
     "output_type": "stream",
     "text": [
      "Max: B24: 2013.82\n",
      "\t [('Series/Rust_Sim-0.pid1_prosumer_0', 437.28), ('Series/Rust_Sim-0.pid3_prosumer_1', 809.55), ('Series/Rust_Sim-0.pid4_prosumer_2', 766.99)]\n",
      "Min: Perfect: 1973.90\n",
      "\t [('Series/Rust_Sim-0.pid1_prosumer_0', 420.19), ('Series/Rust_Sim-0.pid3_prosumer_1', 801.44), ('Series/Rust_Sim-0.pid4_prosumer_2', 752.27)]\n"
     ]
    },
    {
     "data": {
      "image/png": "[encoded data removed]",
      "text/plain": [
       "<Figure size 432x288 with 1 Axes>"
      ]
     },
     "metadata": {
      "needs_background": "light"
     },
     "output_type": "display_data"
    }
   ],
   "source": [
    "fig, ax = plt.subplots()\n",
    "legend = create_stacked_barchart(ax, plot_data_model_comparison, colors=colors)\n",
    "# print_costs(plot_data_model_comparison)\n",
    "get_min_max_costs(plot_data_model_comparison)\n",
    "\n",
    "fig.legend(legend);\n",
    "fig.savefig(PurePath(figure_folder, \"economic_comparisons_models.png\"))\n"
   ]
  },
  {
   "cell_type": "code",
   "execution_count": 18,
   "metadata": {},
   "outputs": [
    {
     "name": "stdout",
     "output_type": "stream",
     "text": [
      "Perfect: 1973.90\n",
      "\tProsumer 1: 420.19\n",
      "\tProsumer 3: 801.44\n",
      "\tProsumer 4: 752.27\n",
      "B24: 2013.82\n",
      "\tProsumer 1: 437.28\n",
      "\tProsumer 3: 809.55\n",
      "\tProsumer 4: 766.99\n",
      "$(1,0,1)\\times (1,0,1)24$: 2008.81\n",
      "\tProsumer 1: 433.00\n",
      "\tProsumer 3: 806.90\n",
      "\tProsumer 4: 768.91\n",
      "$(1,0,1)\\times (2,0,0)24$: 2011.97\n",
      "\tProsumer 1: 434.38\n",
      "\tProsumer 3: 807.17\n",
      "\tProsumer 4: 770.42\n"
     ]
    }
   ],
   "source": [
    "\n",
    "print_model_costs(plot_data_model_comparison)"
   ]
  },
  {
   "cell_type": "code",
   "execution_count": 19,
   "metadata": {},
   "outputs": [
    {
     "name": "stdout",
     "output_type": "stream",
     "text": [
      "Perfect & \\myEUR{420,19} & \\myEUR{801,44} & \\myEUR{752,27} & \\myEUR{1973,90}  \\\\ \n",
      "B24 & \\myEUR{437,28} & \\myEUR{809,55} & \\myEUR{766,99} & \\myEUR{2013,82}  \\\\ \n",
      "$(1,0,1)\\times (1,0,1)24$ & \\myEUR{433,00} & \\myEUR{806,90} & \\myEUR{768,91} & \\myEUR{2008,81}  \\\\ \n",
      "$(1,0,1)\\times (2,0,0)24$ & \\myEUR{434,38} & \\myEUR{807,17} & \\myEUR{770,42} & \\myEUR{2011,97}  \\\\ \n",
      "\n"
     ]
    }
   ],
   "source": [
    "# Ausgabe ist zum erstellen einer tex tabelle da.\n",
    "print(tex_model_costs(plot_data_model_comparison))"
   ]
  },
  {
   "cell_type": "code",
   "execution_count": 20,
   "metadata": {},
   "outputs": [],
   "source": [
    "# print(construct_cost_info_string(sim_hh_costs_model_comparison))"
   ]
  },
  {
   "cell_type": "code",
   "execution_count": 21,
   "metadata": {},
   "outputs": [],
   "source": [
    "def create_diff_data(data: Dict[str, List[Tuple[str, float]]], base_key) -> Dict[str, List[Tuple[str, float]]]:\n",
    "    base = data[base_key]\n",
    "    new_data = dict()\n",
    "    for key in data:\n",
    "        if key == base_key:\n",
    "            continue\n",
    "        model_result = [(base_key if base_key == model_key else \"keys dont match\", model_val - base_val) \n",
    "                            for (base_key, base_val), (model_key, model_val) in zip(base, data[key])]\n",
    "        \n",
    "\n",
    "        new_data[key] = model_result\n",
    "    return new_data\n",
    "\n",
    "model_comparison_diff = create_diff_data(plot_data_model_comparison, MODEL_PERFECT)\n"
   ]
  },
  {
   "cell_type": "code",
   "execution_count": 22,
   "metadata": {},
   "outputs": [
    {
     "name": "stdout",
     "output_type": "stream",
     "text": [
      "Max: B24: 39.92\n",
      "\t [('Series/Rust_Sim-0.pid1_prosumer_0', 17.089999999999975), ('Series/Rust_Sim-0.pid3_prosumer_1', 8.1099999999999), ('Series/Rust_Sim-0.pid4_prosumer_2', 14.720000000000027)]\n",
      "Min: $(1,0,1)\\times (1,0,1)24$: 34.91\n",
      "\t [('Series/Rust_Sim-0.pid1_prosumer_0', 12.810000000000002), ('Series/Rust_Sim-0.pid3_prosumer_1', 5.459999999999923), ('Series/Rust_Sim-0.pid4_prosumer_2', 16.639999999999986)]\n"
     ]
    },
    {
     "data": {
      "image/png": "[encoded data removed]",
      "text/plain": [
       "<Figure size 432x288 with 1 Axes>"
      ]
     },
     "metadata": {
      "needs_background": "light"
     },
     "output_type": "display_data"
    }
   ],
   "source": [
    "\n",
    "fig, ax = plt.subplots()\n",
    "legend = create_stacked_barchart(ax, model_comparison_diff, colors=colors)\n",
    "# print_costs(plot_data_model_comparison)\n",
    "get_min_max_costs(model_comparison_diff)\n",
    "\n",
    "fig.legend(legend);\n",
    "fig.tight_layout()\n",
    "fig.savefig(PurePath(figure_folder, \"economic_comparisons_models_difference.png\"))"
   ]
  },
  {
   "cell_type": "code",
   "execution_count": 23,
   "metadata": {},
   "outputs": [],
   "source": [
    "scenario_diff_plot_data = plot_data_model_comparison\n",
    "scenario_diff_plot_data[ENERDAG_WITH_10kWh_SIMPLE] = plot_data_prosumers[ENERDAG_WITH_10kWh_SIMPLE]\n",
    "scenario_comp_diff = create_diff_data(scenario_diff_plot_data, ENERDAG_WITH_10kWh_SIMPLE)\n"
   ]
  },
  {
   "cell_type": "code",
   "execution_count": 24,
   "metadata": {},
   "outputs": [
    {
     "name": "stdout",
     "output_type": "stream",
     "text": [
      "Perfect: 1973.90\n",
      "\tProsumer 1: 420.19\n",
      "\tProsumer 3: 801.44\n",
      "\tProsumer 4: 752.27\n",
      "B24: 2013.82\n",
      "\tProsumer 1: 437.28\n",
      "\tProsumer 3: 809.55\n",
      "\tProsumer 4: 766.99\n",
      "$(1,0,1)\\times (1,0,1)24$: 2008.81\n",
      "\tProsumer 1: 433.00\n",
      "\tProsumer 3: 806.90\n",
      "\tProsumer 4: 768.91\n",
      "$(1,0,1)\\times (2,0,0)24$: 2011.97\n",
      "\tProsumer 1: 434.38\n",
      "\tProsumer 3: 807.17\n",
      "\tProsumer 4: 770.42\n",
      "enerDAG Simple Battery (10 kWh): 2122.91\n",
      "\tProsumer 1: 483.63\n",
      "\tProsumer 3: 819.19\n",
      "\tProsumer 4: 820.09\n"
     ]
    }
   ],
   "source": [
    "print_model_costs(scenario_diff_plot_data)\n"
   ]
  },
  {
   "cell_type": "code",
   "execution_count": 25,
   "metadata": {},
   "outputs": [
    {
     "name": "stdout",
     "output_type": "stream",
     "text": [
      "Max: B24: -109.09\n",
      "\t [('Series/Rust_Sim-0.pid1_prosumer_0', -46.35000000000002), ('Series/Rust_Sim-0.pid3_prosumer_1', -9.6400000000001), ('Series/Rust_Sim-0.pid4_prosumer_2', -53.10000000000002)]\n",
      "Min: Perfect: -149.01\n",
      "\t [('Series/Rust_Sim-0.pid1_prosumer_0', -63.44), ('Series/Rust_Sim-0.pid3_prosumer_1', -17.75), ('Series/Rust_Sim-0.pid4_prosumer_2', -67.82000000000005)]\n"
     ]
    },
    {
     "data": {
      "image/png": "[encoded data removed]",
      "text/plain": [
       "<Figure size 864x576 with 1 Axes>"
      ]
     },
     "metadata": {
      "needs_background": "light"
     },
     "output_type": "display_data"
    }
   ],
   "source": [
    "\n",
    "plt.rcParams['font.size'] = '16'\n",
    "fig, ax = plt.subplots(figsize=(12,8))\n",
    "legend = create_stacked_barchart(ax, scenario_comp_diff, colors=colors)\n",
    "# print_costs(plot_data_model_comparison)\n",
    "get_min_max_costs(scenario_comp_diff)\n",
    "\n",
    "fig.legend(legend);\n",
    "fig.tight_layout()\n",
    "fig.savefig(PurePath(figure_folder, \"economic_comparisons_smart_simple_battery.png\"))\n"
   ]
  },
  {
   "cell_type": "code",
   "execution_count": 26,
   "metadata": {},
   "outputs": [
    {
     "data": {
      "text/plain": [
       "array([18., 12.])"
      ]
     },
     "execution_count": 26,
     "metadata": {},
     "output_type": "execute_result"
    }
   ],
   "source": [
    "fig.get_size_inches() * 1.5"
   ]
  },
  {
   "cell_type": "markdown",
   "metadata": {},
   "source": [
    "# Für Konsumenten: \n"
   ]
  },
  {
   "cell_type": "code",
   "execution_count": 27,
   "metadata": {},
   "outputs": [],
   "source": [
    "def consumer_calc_buy_cost(energy_stats: HouseholdEnergyStats, price_spec: PriceSpec):\n",
    "    \"\"\" \n",
    "    Calculate the Cost when someone buys all the consumed energy from the utility provider\n",
    "    \"\"\"\n",
    "    return (energy_stats.total_energy.total_energy * price_spec.cost_buy_from_grid.to_euro()) / 1000\n",
    "\n",
    "def filter_consumers_and_apply_func(func, energy_stats: Dict[str, HouseholdEnergyStats], prices: PriceSpec):\n",
    "    prosumers = dict(list(filter(lambda x: \"consumer\" in x[0], list(energy_stats.items()))))\n",
    "    return [(name, func(stats, prices)) for (name,stats) in prosumers.items()]\n",
    "\n",
    "def cal_buy_cost_for_consumers(energy_stats: Dict[str, HouseholdEnergyStats], prices: PriceSpec):\n",
    "    return filter_consumers_and_apply_func(lambda x,y : consumer_calc_buy_cost(x,y), energy_stats, prices)\n",
    "\n",
    "def calc_pv_wo_enerdag_consumers(energy_stats: Dict[str, HouseholdEnergyStats], prices: PriceSpec):\n",
    "    return filter_consumers_and_apply_func(lambda x,y: calc_costs_pv_wo_enerdag(x,y).to_euro(), energy_stats, prices)\n",
    "    \n",
    "\n",
    "\n",
    "def calc_pv_and_batter_wo_enerdag_consumers(energy_stats: Dict[str, HouseholdEnergyStats], prices: PriceSpec):\n",
    "    return filter_consumers_and_apply_func(lambda x,y: calc_costs_pv_and_battery_wo_enerdag(x,y).to_euro(), energy_stats, prices)\n",
    "    \n",
    "def calc_enerdag_total_cost_consumers(energy_stats: Dict[str, HouseholdEnergyStats], prices: PriceSpec):\n",
    "    return filter_consumers_and_apply_func(lambda stats, prices: household_power_cost(stats, prices).total_energy.total_money.to_euro(), energy_stats, prices)\n"
   ]
  },
  {
   "cell_type": "code",
   "execution_count": 28,
   "metadata": {},
   "outputs": [
    {
     "data": {
      "text/plain": [
       "dict_keys(['No Battery', 'Simple Battery (10 kWh)', 'SARIMA Smart Battery (10 kWh)', 'Simple Battery (5 kWh)', 'SARIMA SmartBattery (5 kWh)'])"
      ]
     },
     "execution_count": 28,
     "metadata": {},
     "output_type": "execute_result"
    }
   ],
   "source": [
    "simulation_dataframes.keys()"
   ]
  },
  {
   "cell_type": "code",
   "execution_count": 29,
   "metadata": {},
   "outputs": [],
   "source": [
    "\n",
    "plot_data_consumers = {\n",
    "     # \"Kein PV\":  cal_buy_cost_for_consumers(simulation_costs[\"NoBattery\"], prices), \n",
    "    #\"Ohne enerDAG\": calc_pv_wo_enerdag_consumers(simulation_dataframes[\"NoBattery\"], prices), \n",
    "    PV_AND_BATT_10kWh: calc_pv_and_batter_wo_enerdag_consumers(simulation_dataframes[KEY_SIMPLE_10_kWh], prices), \n",
    "    ENERDAG_WO_BATT: calc_enerdag_total_cost_consumers(simulation_dataframes[KEY_NO_BATTERY], prices),\n",
    "    ENERDAG_WITH_10kWh_SIMPLE: calc_enerdag_total_cost_consumers(simulation_dataframes[KEY_SIMPLE_10_kWh], prices), \n",
    "    ENERDAG_WITH_10kWh_SMART: calc_enerdag_total_cost_consumers(simulation_dataframes[KEY_SARIMA_SMART_10kWh], prices), \n",
    "}\n",
    "    "
   ]
  },
  {
   "cell_type": "code",
   "execution_count": 30,
   "metadata": {},
   "outputs": [
    {
     "name": "stdout",
     "output_type": "stream",
     "text": [
      "Max: PV + Battery (10kWh) w/o enerDAG: 2938.75\n",
      "\t [('Series/Rust_Sim-0.consumer_0', 781.49), ('Series/Rust_Sim-0.consumer_1', 725.66), ('Series/Rust_Sim-0.consumer_2', 1431.6)]\n",
      "Min: enerDAG Smart Battery (10 kWh): 2657.83\n",
      "\t [('Series/Rust_Sim-0.consumer_0', 662.38), ('Series/Rust_Sim-0.consumer_1', 1286.59), ('Series/Rust_Sim-0.consumer_2', 708.86)]\n"
     ]
    },
    {
     "data": {
      "image/png": "[encoded data removed]",
      "text/plain": [
       "<Figure size 432x288 with 1 Axes>"
      ]
     },
     "metadata": {
      "needs_background": "light"
     },
     "output_type": "display_data"
    }
   ],
   "source": [
    "fig, ax = plt.subplots()\n",
    "legend = create_stacked_barchart(ax, plot_data_consumers, colors=colors)\n",
    "get_min_max_costs(plot_data_consumers)\n",
    "\n",
    "fig.legend(legend);"
   ]
  },
  {
   "cell_type": "code",
   "execution_count": 31,
   "metadata": {},
   "outputs": [
    {
     "name": "stdout",
     "output_type": "stream",
     "text": [
      "PV + Battery (10kWh) w/o enerDAG & \\myEUR{781,49} & \\myEUR{725,66} & \\myEUR{1431,60} & \\myEUR{2938,75}  \\\\ \n",
      "enerDAG w/o battery & \\myEUR{723,68} & \\myEUR{682,09} & \\myEUR{1330,61} & \\myEUR{2736,38}  \\\\ \n",
      "enerDAG Simple Battery (10 kWh) & \\myEUR{743,59} & \\myEUR{697,83} & \\myEUR{1362,08} & \\myEUR{2803,50}  \\\\ \n",
      "enerDAG Smart Battery (10 kWh) & \\myEUR{662,38} & \\myEUR{1286,59} & \\myEUR{708,86} & \\myEUR{2657,83}  \\\\ \n",
      "\n"
     ]
    }
   ],
   "source": [
    "print(tex_model_costs(plot_data_consumers))"
   ]
  },
  {
   "cell_type": "code",
   "execution_count": 32,
   "metadata": {},
   "outputs": [
    {
     "name": "stdout",
     "output_type": "stream",
     "text": [
      "PV + Battery (10kWh) w/o enerDAG: 2938.75\n",
      "\tconsumer_0: 781.49\n",
      "\tconsumer_1: 725.66\n",
      "\tconsumer_2: 1431.60\n",
      "enerDAG w/o battery: 2736.38\n",
      "\tconsumer_0: 723.68\n",
      "\tconsumer_1: 682.09\n",
      "\tconsumer_2: 1330.61\n",
      "enerDAG Simple Battery (10 kWh): 2803.50\n",
      "\tconsumer_0: 743.59\n",
      "\tconsumer_1: 697.83\n",
      "\tconsumer_2: 1362.08\n",
      "enerDAG Smart Battery (10 kWh): 2657.83\n",
      "\tconsumer_0: 662.38\n",
      "\tconsumer_1: 1286.59\n",
      "\tconsumer_2: 708.86\n"
     ]
    }
   ],
   "source": [
    "plot_data_consumers\n",
    "print_model_costs(plot_data_consumers)"
   ]
  },
  {
   "cell_type": "code",
   "execution_count": 37,
   "metadata": {},
   "outputs": [],
   "source": [
    "plot_data_consumers_5kWh = {\n",
    "     # \"Kein PV\":  cal_buy_cost_for_consumers(simulation_costs[\"NoBattery\"], prices), \n",
    "    #\"Ohne enerDAG\": calc_pv_wo_enerdag_consumers(simulation_dataframes[\"NoBattery\"], prices), \n",
    "    \n",
    "    \n",
    "    ENERDAG_WITH_5kWh_SIMPLE: calc_enerdag_total_cost_consumers(simulation_dataframes[KEY_SIMPLE_5_kWh], prices), \n",
    "    ENERDAG_WITH_5kWh_SMART: calc_enerdag_total_cost_consumers(simulation_dataframes[KEY_SARIMA_SMART_5kWh], prices), \n",
    "}\n",
    "    \n"
   ]
  },
  {
   "cell_type": "code",
   "execution_count": 38,
   "metadata": {},
   "outputs": [
    {
     "name": "stdout",
     "output_type": "stream",
     "text": [
      "enerDAG Simple Battery (5 kWh): 2792.84\n",
      "\tconsumer_0: 695.18\n",
      "\tconsumer_1: 1356.81\n",
      "\tconsumer_2: 740.85\n",
      "enerDAG Smart Battery (5 kWh): 2726.53\n",
      "\tconsumer_0: 723.09\n",
      "\tconsumer_1: 679.67\n",
      "\tconsumer_2: 1323.77\n"
     ]
    }
   ],
   "source": [
    "print_model_costs(plot_data_consumers_5kWh)"
   ]
  },
  {
   "cell_type": "code",
   "execution_count": 33,
   "metadata": {},
   "outputs": [],
   "source": [
    "\n",
    "consumer_plot_data_model_comparison = dict()\n",
    "for sim in simulation_dataframes_model_comparison:\n",
    "    consumer_plot_data_model_comparison[sim] = calc_enerdag_total_cost_consumers(simulation_dataframes_model_comparison[sim], prices)\n"
   ]
  },
  {
   "cell_type": "code",
   "execution_count": 34,
   "metadata": {},
   "outputs": [
    {
     "name": "stdout",
     "output_type": "stream",
     "text": [
      "Perfect: 2663.65\n",
      "\tconsumer_0: 1289.57\n",
      "\tconsumer_1: 664.50\n",
      "\tconsumer_2: 709.58\n",
      "B24: 2652.69\n",
      "\tconsumer_0: 661.56\n",
      "\tconsumer_1: 707.38\n",
      "\tconsumer_2: 1283.75\n",
      "$(1,0,1)\\times (1,0,1)24$: 2656.17\n",
      "\tconsumer_0: 662.10\n",
      "\tconsumer_1: 707.77\n",
      "\tconsumer_2: 1286.30\n",
      "$(1,0,1)\\times (2,0,0)24$: 2657.83\n",
      "\tconsumer_0: 662.38\n",
      "\tconsumer_1: 1286.59\n",
      "\tconsumer_2: 708.86\n"
     ]
    }
   ],
   "source": [
    "print_model_costs(consumer_plot_data_model_comparison)"
   ]
  },
  {
   "cell_type": "code",
   "execution_count": 35,
   "metadata": {},
   "outputs": [
    {
     "name": "stdout",
     "output_type": "stream",
     "text": [
      "Perfect & \\myEUR{1289,57} & \\myEUR{664,50} & \\myEUR{709,58} & \\myEUR{2663,65}  \\\\ \n",
      "B24 & \\myEUR{661,56} & \\myEUR{707,38} & \\myEUR{1283,75} & \\myEUR{2652,69}  \\\\ \n",
      "$(1,0,1)\\times (1,0,1)24$ & \\myEUR{662,10} & \\myEUR{707,77} & \\myEUR{1286,30} & \\myEUR{2656,17}  \\\\ \n",
      "$(1,0,1)\\times (2,0,0)24$ & \\myEUR{662,38} & \\myEUR{1286,59} & \\myEUR{708,86} & \\myEUR{2657,83}  \\\\ \n",
      "\n"
     ]
    }
   ],
   "source": [
    "print(tex_model_costs(consumer_plot_data_model_comparison))"
   ]
  },
  {
   "cell_type": "code",
   "execution_count": 36,
   "metadata": {},
   "outputs": [
    {
     "name": "stdout",
     "output_type": "stream",
     "text": [
      "Max: Perfect: 2663.65\n",
      "\t [('Series/Rust_Sim-0.consumer_0', 1289.57), ('Series/Rust_Sim-0.consumer_1', 664.5), ('Series/Rust_Sim-0.consumer_2', 709.58)]\n",
      "Min: B24: 2652.69\n",
      "\t [('Series/Rust_Sim-0.consumer_0', 661.56), ('Series/Rust_Sim-0.consumer_1', 707.38), ('Series/Rust_Sim-0.consumer_2', 1283.75)]\n"
     ]
    },
    {
     "data": {
      "text/plain": [
       "<matplotlib.legend.Legend at 0x7fb6c3530220>"
      ]
     },
     "execution_count": 36,
     "metadata": {},
     "output_type": "execute_result"
    },
    {
     "data": {
      "image/png": "[encoded data removed]",
      "text/plain": [
       "<Figure size 432x288 with 1 Axes>"
      ]
     },
     "metadata": {
      "needs_background": "light"
     },
     "output_type": "display_data"
    }
   ],
   "source": [
    "fig, ax = plt.subplots()\n",
    "legend = create_stacked_barchart(ax, consumer_plot_data_model_comparison, colors=colors)\n",
    "get_min_max_costs(consumer_plot_data_model_comparison)\n",
    "\n",
    "fig.legend(legend)\n"
   ]
  },
  {
   "cell_type": "code",
   "execution_count": null,
   "metadata": {},
   "outputs": [],
   "source": []
  },
  {
   "cell_type": "code",
   "execution_count": null,
   "metadata": {},
   "outputs": [],
   "source": []
  }
 ],
 "metadata": {
  "interpreter": {
   "hash": "8905e9ebf5b1c5e7c5e54a86e02a3d8bc827f137d4b9865ad3dd3672b56bbe79"
  },
  "kernelspec": {
   "display_name": "Python 3",
   "language": "python",
   "name": "python3"
  },
  "language_info": {
   "codemirror_mode": {
    "name": "ipython",
    "version": 3
   },
   "file_extension": ".py",
   "mimetype": "text/x-python",
   "name": "python",
   "nbconvert_exporter": "python",
   "pygments_lexer": "ipython3",
   "version": "3.8.10"
  }
 },
 "nbformat": 4,
 "nbformat_minor": 4
}
