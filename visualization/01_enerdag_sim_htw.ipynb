{
 "cells": [
  {
   "cell_type": "code",
   "execution_count": 2,
   "metadata": {},
   "outputs": [],
   "source": [
    "import pandas as pd\n",
    "import numpy as np\n",
    "import matplotlib.pyplot as plt\n",
    "from pathlib import PurePath\n",
    "import h5py"
   ]
  },
  {
   "cell_type": "code",
   "execution_count": 16,
   "metadata": {},
   "outputs": [],
   "source": [
    "base_path = PurePath( 'data', 'enerdag_sim_prosumer', )\n",
    "\n",
    "predictor_variants = ['CSV_(1, 0, 1)_(2, 0, 0, 24)_history_4']\n",
    "date_from, date_to = \"2010-01-01\", \"2010-12-30\"\n",
    "battery_capacities = [ 10000]\n",
    "simulation_file_paths = [f\"from_{date_from}_to_{date_to}_ConProPV_(30, 30, 0)_{pred}_SmartBattery_{wh}Wh.hdf5\" for pred in predictor_variants for wh in battery_capacities]\n",
    "simulation_file_paths += [f\"from_{date_from}_to_{date_to}_ConProPV_(30, 30, 0)_SimpleBattery_{wh}Wh.hdf5\"  for wh in [10000,]]"
   ]
  },
  {
   "cell_type": "code",
   "execution_count": 19,
   "metadata": {},
   "outputs": [],
   "source": [
    "simulation_file_paths = [\n",
    "    'from_2010-01-01_to_2010-12-30_ConProPV_(30, 30, 0)_CSV_(1, 0, 1)_(1, 0, 1, 24)_history_4_SmartBattery_10000Wh.hdf5',\n",
    "    'from_2010-01-01_to_2010-12-30_ConProPV_(30, 30, 0)_CSV_(1, 0, 1)_(2, 0, 0, 24)_history_4_SmartBattery_10000Wh.hdf5',\n",
    "    'from_2010-01-01_to_2010-12-30_ConProPV_(30, 30, 0)_CSV_perfect_SmartBattery_5000Wh.hdf5',\n",
    "    'from_2010-01-01_to_2010-12-30_ConProPV_(30, 30, 0)_NoBattery_0Wh.hdf5',\n",
    "]\n",
    "simulation_files = [h5py.File( PurePath(base_path,f)) for f in simulation_file_paths]\n"
   ]
  },
  {
   "cell_type": "code",
   "execution_count": null,
   "metadata": {},
   "outputs": [],
   "source": []
  },
  {
   "cell_type": "code",
   "execution_count": null,
   "metadata": {},
   "outputs": [],
   "source": []
  }
 ],
 "metadata": {
  "interpreter": {
   "hash": "67cbbf4a05c3fe74fcf8088ae7d32576a9fd05657729f9939c4ef999b7f30c3e"
  },
  "kernelspec": {
   "display_name": "Python 3.8.10 64-bit ('mosaikvenv': venv)",
   "language": "python",
   "name": "python3"
  },
  "language_info": {
   "codemirror_mode": {
    "name": "ipython",
    "version": 3
   },
   "file_extension": ".py",
   "mimetype": "text/x-python",
   "name": "python",
   "nbconvert_exporter": "python",
   "pygments_lexer": "ipython3",
   "version": "3.8.10"
  },
  "orig_nbformat": 4
 },
 "nbformat": 4,
 "nbformat_minor": 2
}
